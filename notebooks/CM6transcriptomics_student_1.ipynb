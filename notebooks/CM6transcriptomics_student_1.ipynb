{
 "cells": [
  {
   "cell_type": "markdown",
   "metadata": {
    "toc": "true"
   },
   "source": [
    "# Table of Contents\n",
    " <p><div class=\"lev1 toc-item\"><a href=\"#Transcriptomics\" data-toc-modified-id=\"Transcriptomics-1\"><span class=\"toc-item-num\">1&nbsp;&nbsp;</span>Transcriptomics</a></div><div class=\"lev2 toc-item\"><a href=\"#Log-Transformations-and-DEG-analysis\" data-toc-modified-id=\"Log-Transformations-and-DEG-analysis-1.1\"><span class=\"toc-item-num\">1.1&nbsp;&nbsp;</span>Log Transformations and DEG analysis</a></div><div class=\"lev2 toc-item\"><a href=\"#Prepping-the-data\" data-toc-modified-id=\"Prepping-the-data-1.2\"><span class=\"toc-item-num\">1.2&nbsp;&nbsp;</span>Prepping the data</a></div><div class=\"lev2 toc-item\"><a href=\"#Explore-the-data\" data-toc-modified-id=\"Explore-the-data-1.3\"><span class=\"toc-item-num\">1.3&nbsp;&nbsp;</span>Explore the data</a></div><div class=\"lev2 toc-item\"><a href=\"#DEG-analysis\" data-toc-modified-id=\"DEG-analysis-1.4\"><span class=\"toc-item-num\">1.4&nbsp;&nbsp;</span>DEG analysis</a></div>"
   ]
  },
  {
   "cell_type": "markdown",
   "metadata": {},
   "source": [
    "# Transcriptomics\n",
    "## Log Transformations and DEG analysis\n",
    "\n",
    "By: Caroline Labelle\n",
    "<br>For: BIM6065-C\n",
    "\n",
    "<br>\n",
    "Date: July  9th 2023\n",
    "\n",
    "<hr style=\"border:1px solid black\"> </hr>\n"
   ]
  },
  {
   "cell_type": "code",
   "execution_count": null,
   "metadata": {},
   "outputs": [],
   "source": [
    "Name:"
   ]
  },
  {
   "cell_type": "markdown",
   "metadata": {},
   "source": [
    "## Prepping the data\n",
    "\n",
    "To do the DEG analysis, we will be using a R package called Limma Voom. We first need to prep our data so that we have a single file to upload in R.\n",
    "\n",
    "You were initially handed 6 unstranded RNA-seq samples of MCF7 cells (breast cancer): three of the samples were threated with estradiol (E2). You used STAR to align the reads and do the gene quantification. You now have 6 files with the suffix <code>ReadsPerGene.out.tab</code>.\n",
    "\n",
    "SRR1012918 -> **treatment**<br>\n",
    "SRR1012920 -> **treatment**<br>\n",
    "SRR1012922 -> **treatment**<br>\n",
    "\n",
    "SRR1012936 -> **control**<br>\n",
    "SRR1012939 -> **control**<br>\n",
    "SRR1012942 -> **control**<br>\n",
    "\n",
    "Publication for the data: https://pubmed.ncbi.nlm.nih.gov/24319002/\n",
    "<br>STAR documentation: https://physiology.med.cornell.edu/faculty/skrabanek/lab/angsd/lecture_notes/STARmanual.pdf"
   ]
  },
  {
   "cell_type": "code",
   "execution_count": null,
   "metadata": {
    "ExecuteTime": {
     "end_time": "2021-07-08T18:53:38.988847Z",
     "start_time": "2021-07-08T18:53:38.984187Z"
    }
   },
   "outputs": [],
   "source": [
    "### Import pandas\n",
    "import pandas as pd"
   ]
  },
  {
   "cell_type": "code",
   "execution_count": null,
   "metadata": {
    "ExecuteTime": {
     "end_time": "2021-07-08T18:10:03.048148Z",
     "start_time": "2021-07-08T18:10:02.969609Z"
    }
   },
   "outputs": [],
   "source": [
    "### Import one DF\n",
    "## Note I: the data are not comma sepereated (.csv)\n",
    "## Note II: there are no headers but the columns' names can \n",
    "##          be found in STAR's documentation (Section 7)\n",
    "## Note III: adding columns' names would facilitated the next steps.\n",
    "\n",
    "fn = \"\"\n",
    "data = pd.read_csv(fn)\n",
    "data.head()"
   ]
  },
  {
   "cell_type": "code",
   "execution_count": null,
   "metadata": {
    "ExecuteTime": {
     "end_time": "2021-07-08T18:10:07.772279Z",
     "start_time": "2021-07-08T18:10:07.754782Z"
    }
   },
   "outputs": [],
   "source": [
    "### From the imported dataset, we only want a subset of data.\n",
    "### Let's get rid of the summary rows: identify them.\n",
    "### We are considering  unstranded RNA-seq data: which count column should\n",
    "### we keed?\n",
    "### We want to keep the genes' identification column\n",
    "\n",
    "### The subset dataset should contain two (2) columns: genes ID and genes count.\n",
    "dataSubset = data\n",
    "dataSubset.head()"
   ]
  },
  {
   "cell_type": "code",
   "execution_count": null,
   "metadata": {},
   "outputs": [],
   "source": [
    "### How many genes are you considering?\n",
    "print(, \" genes\")"
   ]
  },
  {
   "cell_type": "code",
   "execution_count": null,
   "metadata": {
    "ExecuteTime": {
     "end_time": "2021-07-08T18:10:10.604743Z",
     "start_time": "2021-07-08T18:10:10.023815Z"
    }
   },
   "outputs": [],
   "source": [
    "### For now, we've only considered one (1) sample.\n",
    "### You were handed six (6)... you now need to import them all and combine\n",
    "### them :) \n",
    "\n",
    "### You can do it how ever you want!\n",
    "### If you need some guidance, the next cell contains a suggested approach,\n",
    "### using a for loop and the merge() function from Pandas.\n",
    "\n",
    "\n"
   ]
  },
  {
   "cell_type": "code",
   "execution_count": null,
   "metadata": {},
   "outputs": [],
   "source": [
    "import os\n",
    "\n",
    "### First, create a list with all the genes counts filenames. \n",
    "fn = \n",
    "\n",
    "### Second, create a list of sample label. Make sure that the labels are \n",
    "### in the same order as the filenames!\n",
    "sampleLabels = \n",
    "\n",
    "### Thirs, define a variable for the number of files, and an dataFrame that \n",
    "### will contain all of your samples data.\n",
    "N = \n",
    "geneCount = \n",
    "\n",
    "### Fourth, create a for loop that will import each gene count file \n",
    "### and merge its data to your global dataset.\n",
    "for i in range() :\n",
    "    ### Get sample filename\n",
    "    fn_tmp = \n",
    "    \n",
    "    ### Import sample data (similar to the single sample imported above\n",
    "    ### Make sure to change the label for each sample\n",
    "    data_tmp = pd.read_csv(fn_tmp)\n",
    "    \n",
    "    ### Select the relevant information (similar to the single sample imported above\n",
    "    subset_tmp = \n",
    "    \n",
    "    ### Merge the newly imported sample to the geneCount df\n",
    "    geneCount = "
   ]
  },
  {
   "cell_type": "code",
   "execution_count": null,
   "metadata": {},
   "outputs": [],
   "source": [
    "geneCount.head()"
   ]
  },
  {
   "cell_type": "code",
   "execution_count": null,
   "metadata": {
    "ExecuteTime": {
     "end_time": "2021-07-08T18:14:32.124483Z",
     "start_time": "2021-07-08T18:14:31.869418Z"
    }
   },
   "outputs": [],
   "source": [
    "### You now need to export your geneCount dataFrame to a file so \n",
    "### that you can use it to do your DEG.\n",
    "\n",
    "### You should export it as a tab-seperated file. You can use the to_csv() function.\n",
    "### You should not export index numbers. You can export the header.\n",
    "geneCount.to_csv()\n",
    "\n",
    "### Read data from exported file\n",
    "geneCount = pd.read_csv()\n",
    "geneCount.head()"
   ]
  },
  {
   "cell_type": "markdown",
   "metadata": {},
   "source": [
    "## Gene counts exploration"
   ]
  },
  {
   "cell_type": "code",
   "execution_count": null,
   "metadata": {
    "ExecuteTime": {
     "end_time": "2021-07-08T18:53:39.805102Z",
     "start_time": "2021-07-08T18:53:39.784287Z"
    }
   },
   "outputs": [],
   "source": [
    "import seaborn as sns\n",
    "import matplotlib.pyplot as plt\n",
    "sns.set(rc={'figure.figsize':(4, 2)})\n",
    "sns.set_theme(context=\"notebook\", style=\"white\")"
   ]
  },
  {
   "cell_type": "code",
   "execution_count": null,
   "metadata": {},
   "outputs": [],
   "source": [
    "### Plot the genes counts ratio for Control1 : Treatment1\n"
   ]
  },
  {
   "cell_type": "code",
   "execution_count": null,
   "metadata": {
    "ExecuteTime": {
     "end_time": "2021-07-08T18:18:49.794800Z",
     "start_time": "2021-07-08T18:18:49.783792Z"
    }
   },
   "outputs": [],
   "source": [
    "### Calculate the average ratio of Control1 : Treatment1\n",
    "### Is there a problem?\n"
   ]
  },
  {
   "cell_type": "code",
   "execution_count": null,
   "metadata": {},
   "outputs": [],
   "source": [
    "import numpy as np\n",
    "\n",
    "### Calculate the log2 of the ratio Control1 : Treatment1.\n",
    "### Plot its distribution and calculate the average.\n"
   ]
  },
  {
   "cell_type": "code",
   "execution_count": null,
   "metadata": {},
   "outputs": [],
   "source": [
    "### What can we tell from the above plot and the calculated average value?"
   ]
  },
  {
   "cell_type": "code",
   "execution_count": null,
   "metadata": {},
   "outputs": [],
   "source": [
    "### Which genes are over expressed in the Treatment?\n"
   ]
  },
  {
   "cell_type": "code",
   "execution_count": null,
   "metadata": {},
   "outputs": [],
   "source": [
    "### Which genes are the most over expressed in the Treatment?\n",
    "### Let's select the top10\n"
   ]
  },
  {
   "cell_type": "code",
   "execution_count": null,
   "metadata": {},
   "outputs": [],
   "source": [
    "### Can we conclude that these genes are the Top10 overexpressed genes in the \n",
    "### the Treatment samples?"
   ]
  },
  {
   "cell_type": "markdown",
   "metadata": {},
   "source": [
    "# Exercices [30 pts]\n",
    "Once you've completed the next sections, export your Notebook in HTML and submit it to StudiUM. Make sure that your results and answers to the questions are visible and clear."
   ]
  },
  {
   "cell_type": "markdown",
   "metadata": {},
   "source": [
    "## Calculate the log2 FC for each pair of Control-Treatment [5 pts]"
   ]
  },
  {
   "cell_type": "code",
   "execution_count": null,
   "metadata": {},
   "outputs": [],
   "source": [
    "import numpy as np"
   ]
  },
  {
   "cell_type": "code",
   "execution_count": null,
   "metadata": {},
   "outputs": [],
   "source": [
    "### Let's considere all of our samples.\n",
    "### We want to pair each Treatment - Control samples and calculate their log2 FC \n",
    "### with respect to the Treatment.\n"
   ]
  },
  {
   "cell_type": "markdown",
   "metadata": {},
   "source": [
    "## Calculate the average log2 FC of each gene [10 pts]"
   ]
  },
  {
   "cell_type": "code",
   "execution_count": null,
   "metadata": {},
   "outputs": [],
   "source": [
    "### We now want to calculate the average log2 FC for each gene across \n",
    "### the different pairings.\n",
    "\n",
    "### Let's create a dataframe\n"
   ]
  },
  {
   "cell_type": "code",
   "execution_count": null,
   "metadata": {},
   "outputs": [],
   "source": [
    "### Let's calculate the average FC for each gene.\n"
   ]
  },
  {
   "cell_type": "code",
   "execution_count": null,
   "metadata": {},
   "outputs": [],
   "source": [
    "### Plot the log2 FC distribution\n"
   ]
  },
  {
   "cell_type": "markdown",
   "metadata": {},
   "source": [
    "## Identify the Top10 over expressed genes in Treatment [10 pts]"
   ]
  },
  {
   "cell_type": "code",
   "execution_count": null,
   "metadata": {},
   "outputs": [],
   "source": [
    "### What are the Top10 over expressed genes in the Treatment?\n",
    "### Do we get the same Top10?\n"
   ]
  },
  {
   "cell_type": "markdown",
   "metadata": {},
   "source": [
    "## Analyse the methodology [5 pts]"
   ]
  },
  {
   "cell_type": "code",
   "execution_count": null,
   "metadata": {},
   "outputs": [],
   "source": [
    "### Do you find the same Top10?"
   ]
  },
  {
   "cell_type": "code",
   "execution_count": null,
   "metadata": {},
   "outputs": [],
   "source": [
    "### Put your critical spectacles on!\n",
    "### Is that the best approach to do a DEG analysis? \n",
    "### What could be done differently? Are we missing something?"
   ]
  }
 ],
 "metadata": {
  "kernelspec": {
   "display_name": "Python (bioinfo) 2024",
   "language": "python",
   "name": "bioinfo"
  },
  "language_info": {
   "codemirror_mode": {
    "name": "ipython",
    "version": 3
   },
   "file_extension": ".py",
   "mimetype": "text/x-python",
   "name": "python",
   "nbconvert_exporter": "python",
   "pygments_lexer": "ipython3",
   "version": "3.10.4"
  },
  "latex_envs": {
   "bibliofile": "biblio.bib",
   "cite_by": "apalike",
   "current_citInitial": 1,
   "eqLabelWithNumbers": true,
   "eqNumInitial": 0
  },
  "nav_menu": {},
  "toc": {
   "navigate_menu": true,
   "number_sections": true,
   "sideBar": true,
   "threshold": 6,
   "toc_cell": true,
   "toc_section_display": "block",
   "toc_window_display": false
  }
 },
 "nbformat": 4,
 "nbformat_minor": 4
}
