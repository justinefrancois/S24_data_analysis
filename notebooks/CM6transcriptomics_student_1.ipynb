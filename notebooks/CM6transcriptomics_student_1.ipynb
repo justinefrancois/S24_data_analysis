{
 "cells": [
  {
   "cell_type": "markdown",
   "metadata": {
    "toc": "true"
   },
   "source": [
    "# Table of Contents\n",
    " <p><div class=\"lev1 toc-item\"><a href=\"#Transcriptomics\" data-toc-modified-id=\"Transcriptomics-1\"><span class=\"toc-item-num\">1&nbsp;&nbsp;</span>Transcriptomics</a></div><div class=\"lev2 toc-item\"><a href=\"#Log-Transformations-and-DEG-analysis\" data-toc-modified-id=\"Log-Transformations-and-DEG-analysis-1.1\"><span class=\"toc-item-num\">1.1&nbsp;&nbsp;</span>Log Transformations and DEG analysis</a></div><div class=\"lev2 toc-item\"><a href=\"#Prepping-the-data\" data-toc-modified-id=\"Prepping-the-data-1.2\"><span class=\"toc-item-num\">1.2&nbsp;&nbsp;</span>Prepping the data</a></div><div class=\"lev2 toc-item\"><a href=\"#Explore-the-data\" data-toc-modified-id=\"Explore-the-data-1.3\"><span class=\"toc-item-num\">1.3&nbsp;&nbsp;</span>Explore the data</a></div><div class=\"lev2 toc-item\"><a href=\"#DEG-analysis\" data-toc-modified-id=\"DEG-analysis-1.4\"><span class=\"toc-item-num\">1.4&nbsp;&nbsp;</span>DEG analysis</a></div>"
   ]
  },
  {
   "cell_type": "markdown",
   "metadata": {},
   "source": [
    "# Transcriptomics\n",
    "## Log Transformations and DEG analysis\n",
    "\n",
    "By: Justine FRANCOIS\n",
    "<br>For: BIM6065-C\n",
    "\n",
    "<br>\n",
    "Date: July  9th 2023\n",
    "\n",
    "<hr style=\"border:1px solid black\"> </hr>\n"
   ]
  },
  {
   "cell_type": "code",
   "execution_count": 79,
   "metadata": {},
   "outputs": [
    {
     "name": "stdout",
     "output_type": "stream",
     "text": [
      "Name: Justine FRANCOIS\n"
     ]
    }
   ],
   "source": [
    "print(\"Name: Justine FRANCOIS\")"
   ]
  },
  {
   "cell_type": "markdown",
   "metadata": {},
   "source": [
    "## Prepping the data\n",
    "\n",
    "To do the DEG analysis, we will be using a R package called Limma Voom. We first need to prep our data so that we have a single file to upload in R.\n",
    "\n",
    "You were initially handed 6 unstranded RNA-seq samples of MCF7 cells (breast cancer): three of the samples were threated with estradiol (E2). You used STAR to align the reads and do the gene quantification. You now have 6 files with the suffix <code>ReadsPerGene.out.tab</code>.\n",
    "\n",
    "SRR1012918 -> **treatment**<br>\n",
    "SRR1012920 -> **treatment**<br>\n",
    "SRR1012922 -> **treatment**<br>\n",
    "\n",
    "SRR1012936 -> **control**<br>\n",
    "SRR1012939 -> **control**<br>\n",
    "SRR1012942 -> **control**<br>\n",
    "\n",
    "Publication for the data: https://pubmed.ncbi.nlm.nih.gov/24319002/\n",
    "<br>STAR documentation: https://physiology.med.cornell.edu/faculty/skrabanek/lab/angsd/lecture_notes/STARmanual.pdf"
   ]
  },
  {
   "cell_type": "code",
   "execution_count": 1,
   "metadata": {
    "ExecuteTime": {
     "end_time": "2021-07-08T18:53:38.988847Z",
     "start_time": "2021-07-08T18:53:38.984187Z"
    }
   },
   "outputs": [],
   "source": [
    "### Import pandas\n",
    "import pandas as pd"
   ]
  },
  {
   "cell_type": "code",
   "execution_count": 2,
   "metadata": {
    "ExecuteTime": {
     "end_time": "2021-07-08T18:10:03.048148Z",
     "start_time": "2021-07-08T18:10:02.969609Z"
    }
   },
   "outputs": [
    {
     "data": {
      "text/html": [
       "<div>\n",
       "<style scoped>\n",
       "    .dataframe tbody tr th:only-of-type {\n",
       "        vertical-align: middle;\n",
       "    }\n",
       "\n",
       "    .dataframe tbody tr th {\n",
       "        vertical-align: top;\n",
       "    }\n",
       "\n",
       "    .dataframe thead th {\n",
       "        text-align: right;\n",
       "    }\n",
       "</style>\n",
       "<table border=\"1\" class=\"dataframe\">\n",
       "  <thead>\n",
       "    <tr style=\"text-align: right;\">\n",
       "      <th></th>\n",
       "      <th>Gene_ids</th>\n",
       "      <th>Treatment</th>\n",
       "      <th>counts_stranded_1</th>\n",
       "      <th>counts_stranded_2</th>\n",
       "    </tr>\n",
       "  </thead>\n",
       "  <tbody>\n",
       "    <tr>\n",
       "      <th>0</th>\n",
       "      <td>N_unmapped</td>\n",
       "      <td>4211944</td>\n",
       "      <td>4211944</td>\n",
       "      <td>4211944</td>\n",
       "    </tr>\n",
       "    <tr>\n",
       "      <th>1</th>\n",
       "      <td>N_multimapping</td>\n",
       "      <td>0</td>\n",
       "      <td>0</td>\n",
       "      <td>0</td>\n",
       "    </tr>\n",
       "    <tr>\n",
       "      <th>2</th>\n",
       "      <td>N_noFeature</td>\n",
       "      <td>812921</td>\n",
       "      <td>9187413</td>\n",
       "      <td>9390931</td>\n",
       "    </tr>\n",
       "    <tr>\n",
       "      <th>3</th>\n",
       "      <td>N_ambiguous</td>\n",
       "      <td>1484530</td>\n",
       "      <td>410100</td>\n",
       "      <td>369058</td>\n",
       "    </tr>\n",
       "    <tr>\n",
       "      <th>4</th>\n",
       "      <td>ENSG00000223972</td>\n",
       "      <td>1</td>\n",
       "      <td>1</td>\n",
       "      <td>0</td>\n",
       "    </tr>\n",
       "  </tbody>\n",
       "</table>\n",
       "</div>"
      ],
      "text/plain": [
       "          Gene_ids  Treatment  counts_stranded_1  counts_stranded_2\n",
       "0       N_unmapped    4211944            4211944            4211944\n",
       "1   N_multimapping          0                  0                  0\n",
       "2      N_noFeature     812921            9187413            9390931\n",
       "3      N_ambiguous    1484530             410100             369058\n",
       "4  ENSG00000223972          1                  1                  0"
      ]
     },
     "execution_count": 2,
     "metadata": {},
     "output_type": "execute_result"
    }
   ],
   "source": [
    "### Import one DF\n",
    "## Note I: the data are not comma sepereated (.csv)\n",
    "## Note II: there are no headers but the columns' names can \n",
    "##          be found in STAR's documentation (Section 7)\n",
    "## Note III: adding columns' names would facilitated the next steps.\n",
    "# le but ici est de comparer les contrôles et les traitements\n",
    "# on veut voir si les ttt a un effet. \n",
    "#data = pd.read_csv(\"gene_expression_cancer_1.csv\", sep=\",\", header=0)\n",
    "#les deux dernieres ne sont pas les plus intéressantes, donc on les enlèvera après\n",
    "#on renomme les colonnes\n",
    "#on veut juste un dataframe avec les counts donc on peut enlever\n",
    "fn_t1= \"/u/francoij/Untitled Folder/code_github/datasets/STAR_SRR1012918ReadsPerGene.out (1).tab\"\n",
    "data_t1 = pd.read_csv(fn_t1, sep=\"\\t\", header=None, names=[\"Gene_ids\",\"Treatment\",\"counts_stranded_1\",\"counts_stranded_2\"])\n",
    "data_t1.head()"
   ]
  },
  {
   "cell_type": "code",
   "execution_count": 3,
   "metadata": {
    "ExecuteTime": {
     "end_time": "2021-07-08T18:10:07.772279Z",
     "start_time": "2021-07-08T18:10:07.754782Z"
    }
   },
   "outputs": [
    {
     "data": {
      "text/html": [
       "<div>\n",
       "<style scoped>\n",
       "    .dataframe tbody tr th:only-of-type {\n",
       "        vertical-align: middle;\n",
       "    }\n",
       "\n",
       "    .dataframe tbody tr th {\n",
       "        vertical-align: top;\n",
       "    }\n",
       "\n",
       "    .dataframe thead th {\n",
       "        text-align: right;\n",
       "    }\n",
       "</style>\n",
       "<table border=\"1\" class=\"dataframe\">\n",
       "  <thead>\n",
       "    <tr style=\"text-align: right;\">\n",
       "      <th></th>\n",
       "      <th>Gene_ids</th>\n",
       "      <th>Treatment</th>\n",
       "    </tr>\n",
       "  </thead>\n",
       "  <tbody>\n",
       "    <tr>\n",
       "      <th>4</th>\n",
       "      <td>ENSG00000223972</td>\n",
       "      <td>1</td>\n",
       "    </tr>\n",
       "    <tr>\n",
       "      <th>5</th>\n",
       "      <td>ENSG00000227232</td>\n",
       "      <td>1</td>\n",
       "    </tr>\n",
       "    <tr>\n",
       "      <th>6</th>\n",
       "      <td>ENSG00000278267</td>\n",
       "      <td>0</td>\n",
       "    </tr>\n",
       "    <tr>\n",
       "      <th>7</th>\n",
       "      <td>ENSG00000243485</td>\n",
       "      <td>0</td>\n",
       "    </tr>\n",
       "    <tr>\n",
       "      <th>8</th>\n",
       "      <td>ENSG00000284332</td>\n",
       "      <td>0</td>\n",
       "    </tr>\n",
       "  </tbody>\n",
       "</table>\n",
       "</div>"
      ],
      "text/plain": [
       "          Gene_ids  Treatment\n",
       "4  ENSG00000223972          1\n",
       "5  ENSG00000227232          1\n",
       "6  ENSG00000278267          0\n",
       "7  ENSG00000243485          0\n",
       "8  ENSG00000284332          0"
      ]
     },
     "execution_count": 3,
     "metadata": {},
     "output_type": "execute_result"
    }
   ],
   "source": [
    "### From the imported dataset, we only want a subset of data.\n",
    "### Let's get rid of the summary rows: identify them.\n",
    "### We are considering  unstranded RNA-seq data: which count column should\n",
    "### we keed?\n",
    "### We want to keep the genes' identification column\n",
    "\n",
    "### The subset dataset should contain two (2) columns: genes ID and genes count.\n",
    "#on veut juste u subset de la dataframe avec les gènes et le treatment \n",
    "dataSubset_t1= data_t1.iloc[4:,0:2]\n",
    "dataSubset_t1.head()"
   ]
  },
  {
   "cell_type": "code",
   "execution_count": 4,
   "metadata": {},
   "outputs": [
    {
     "name": "stdout",
     "output_type": "stream",
     "text": [
      "60675  genes\n"
     ]
    }
   ],
   "source": [
    "### How many genes are you considering?\n",
    "print(dataSubset_t1.shape[0], \" genes\")"
   ]
  },
  {
   "cell_type": "code",
   "execution_count": 5,
   "metadata": {
    "ExecuteTime": {
     "end_time": "2021-07-08T18:10:10.604743Z",
     "start_time": "2021-07-08T18:10:10.023815Z"
    }
   },
   "outputs": [
    {
     "data": {
      "text/html": [
       "<div>\n",
       "<style scoped>\n",
       "    .dataframe tbody tr th:only-of-type {\n",
       "        vertical-align: middle;\n",
       "    }\n",
       "\n",
       "    .dataframe tbody tr th {\n",
       "        vertical-align: top;\n",
       "    }\n",
       "\n",
       "    .dataframe thead th {\n",
       "        text-align: right;\n",
       "    }\n",
       "</style>\n",
       "<table border=\"1\" class=\"dataframe\">\n",
       "  <thead>\n",
       "    <tr style=\"text-align: right;\">\n",
       "      <th></th>\n",
       "      <th>Gene_ids</th>\n",
       "      <th>Treatment1</th>\n",
       "      <th>counts_stranded_1</th>\n",
       "      <th>counts_stranded_2</th>\n",
       "    </tr>\n",
       "  </thead>\n",
       "  <tbody>\n",
       "    <tr>\n",
       "      <th>0</th>\n",
       "      <td>N_unmapped</td>\n",
       "      <td>4211944</td>\n",
       "      <td>4211944</td>\n",
       "      <td>4211944</td>\n",
       "    </tr>\n",
       "    <tr>\n",
       "      <th>1</th>\n",
       "      <td>N_multimapping</td>\n",
       "      <td>0</td>\n",
       "      <td>0</td>\n",
       "      <td>0</td>\n",
       "    </tr>\n",
       "    <tr>\n",
       "      <th>2</th>\n",
       "      <td>N_noFeature</td>\n",
       "      <td>812921</td>\n",
       "      <td>9187413</td>\n",
       "      <td>9390931</td>\n",
       "    </tr>\n",
       "    <tr>\n",
       "      <th>3</th>\n",
       "      <td>N_ambiguous</td>\n",
       "      <td>1484530</td>\n",
       "      <td>410100</td>\n",
       "      <td>369058</td>\n",
       "    </tr>\n",
       "    <tr>\n",
       "      <th>4</th>\n",
       "      <td>ENSG00000223972</td>\n",
       "      <td>1</td>\n",
       "      <td>1</td>\n",
       "      <td>0</td>\n",
       "    </tr>\n",
       "  </tbody>\n",
       "</table>\n",
       "</div>"
      ],
      "text/plain": [
       "          Gene_ids  Treatment1  counts_stranded_1  counts_stranded_2\n",
       "0       N_unmapped     4211944            4211944            4211944\n",
       "1   N_multimapping           0                  0                  0\n",
       "2      N_noFeature      812921            9187413            9390931\n",
       "3      N_ambiguous     1484530             410100             369058\n",
       "4  ENSG00000223972           1                  1                  0"
      ]
     },
     "execution_count": 5,
     "metadata": {},
     "output_type": "execute_result"
    }
   ],
   "source": [
    "### For now, we've only considered one (1) sample.\n",
    "### You were handed six (6)... you now need to import them all and combine\n",
    "### them :) \n",
    "\n",
    "### You can do it how ever you want!\n",
    "### If you need some guidance, the next cell contains a suggested approach,\n",
    "### using a for loop and the merge() function from Pandas.\n",
    "\n",
    "fn_t1= \"/u/francoij/Untitled Folder/code_github/datasets/STAR_SRR1012918ReadsPerGene.out (1).tab\"\n",
    "data_t1= pd.read_csv(fn_t1, sep=\"\\t\", header=None, names=[\"Gene_ids\",\"Treatment1\",\"counts_stranded_1\",\"counts_stranded_2\"])\n",
    "data_t1.head()"
   ]
  },
  {
   "cell_type": "code",
   "execution_count": 6,
   "metadata": {},
   "outputs": [
    {
     "data": {
      "text/html": [
       "<div>\n",
       "<style scoped>\n",
       "    .dataframe tbody tr th:only-of-type {\n",
       "        vertical-align: middle;\n",
       "    }\n",
       "\n",
       "    .dataframe tbody tr th {\n",
       "        vertical-align: top;\n",
       "    }\n",
       "\n",
       "    .dataframe thead th {\n",
       "        text-align: right;\n",
       "    }\n",
       "</style>\n",
       "<table border=\"1\" class=\"dataframe\">\n",
       "  <thead>\n",
       "    <tr style=\"text-align: right;\">\n",
       "      <th></th>\n",
       "      <th>Gene_ids</th>\n",
       "      <th>Treatment2</th>\n",
       "      <th>counts_stranded_1</th>\n",
       "      <th>counts_stranded_2</th>\n",
       "    </tr>\n",
       "  </thead>\n",
       "  <tbody>\n",
       "    <tr>\n",
       "      <th>0</th>\n",
       "      <td>N_unmapped</td>\n",
       "      <td>2957784</td>\n",
       "      <td>2957784</td>\n",
       "      <td>2957784</td>\n",
       "    </tr>\n",
       "    <tr>\n",
       "      <th>1</th>\n",
       "      <td>N_multimapping</td>\n",
       "      <td>0</td>\n",
       "      <td>0</td>\n",
       "      <td>0</td>\n",
       "    </tr>\n",
       "    <tr>\n",
       "      <th>2</th>\n",
       "      <td>N_noFeature</td>\n",
       "      <td>1003793</td>\n",
       "      <td>7378492</td>\n",
       "      <td>7507701</td>\n",
       "    </tr>\n",
       "    <tr>\n",
       "      <th>3</th>\n",
       "      <td>N_ambiguous</td>\n",
       "      <td>991635</td>\n",
       "      <td>274456</td>\n",
       "      <td>246233</td>\n",
       "    </tr>\n",
       "    <tr>\n",
       "      <th>4</th>\n",
       "      <td>ENSG00000223972</td>\n",
       "      <td>0</td>\n",
       "      <td>0</td>\n",
       "      <td>0</td>\n",
       "    </tr>\n",
       "  </tbody>\n",
       "</table>\n",
       "</div>"
      ],
      "text/plain": [
       "          Gene_ids  Treatment2  counts_stranded_1  counts_stranded_2\n",
       "0       N_unmapped     2957784            2957784            2957784\n",
       "1   N_multimapping           0                  0                  0\n",
       "2      N_noFeature     1003793            7378492            7507701\n",
       "3      N_ambiguous      991635             274456             246233\n",
       "4  ENSG00000223972           0                  0                  0"
      ]
     },
     "execution_count": 6,
     "metadata": {},
     "output_type": "execute_result"
    }
   ],
   "source": [
    "fn_t2= \"/u/francoij/Untitled Folder/code_github/datasets/STAR_SRR1012920ReadsPerGene.out.tab\"\n",
    "data_t2= pd.read_csv(fn_t2, sep=\"\\t\", header=None, names=[\"Gene_ids\",\"Treatment2\",\"counts_stranded_1\",\"counts_stranded_2\"])\n",
    "data_t2.head()"
   ]
  },
  {
   "cell_type": "code",
   "execution_count": 7,
   "metadata": {},
   "outputs": [
    {
     "data": {
      "text/html": [
       "<div>\n",
       "<style scoped>\n",
       "    .dataframe tbody tr th:only-of-type {\n",
       "        vertical-align: middle;\n",
       "    }\n",
       "\n",
       "    .dataframe tbody tr th {\n",
       "        vertical-align: top;\n",
       "    }\n",
       "\n",
       "    .dataframe thead th {\n",
       "        text-align: right;\n",
       "    }\n",
       "</style>\n",
       "<table border=\"1\" class=\"dataframe\">\n",
       "  <thead>\n",
       "    <tr style=\"text-align: right;\">\n",
       "      <th></th>\n",
       "      <th>Gene_ids</th>\n",
       "      <th>Treatment3</th>\n",
       "      <th>counts_stranded_1</th>\n",
       "      <th>counts_stranded_2</th>\n",
       "    </tr>\n",
       "  </thead>\n",
       "  <tbody>\n",
       "    <tr>\n",
       "      <th>0</th>\n",
       "      <td>N_unmapped</td>\n",
       "      <td>3465954</td>\n",
       "      <td>3465954</td>\n",
       "      <td>3465954</td>\n",
       "    </tr>\n",
       "    <tr>\n",
       "      <th>1</th>\n",
       "      <td>N_multimapping</td>\n",
       "      <td>0</td>\n",
       "      <td>0</td>\n",
       "      <td>0</td>\n",
       "    </tr>\n",
       "    <tr>\n",
       "      <th>2</th>\n",
       "      <td>N_noFeature</td>\n",
       "      <td>1174065</td>\n",
       "      <td>9040401</td>\n",
       "      <td>9184850</td>\n",
       "    </tr>\n",
       "    <tr>\n",
       "      <th>3</th>\n",
       "      <td>N_ambiguous</td>\n",
       "      <td>1297209</td>\n",
       "      <td>357443</td>\n",
       "      <td>327034</td>\n",
       "    </tr>\n",
       "    <tr>\n",
       "      <th>4</th>\n",
       "      <td>ENSG00000223972</td>\n",
       "      <td>0</td>\n",
       "      <td>0</td>\n",
       "      <td>0</td>\n",
       "    </tr>\n",
       "  </tbody>\n",
       "</table>\n",
       "</div>"
      ],
      "text/plain": [
       "          Gene_ids  Treatment3  counts_stranded_1  counts_stranded_2\n",
       "0       N_unmapped     3465954            3465954            3465954\n",
       "1   N_multimapping           0                  0                  0\n",
       "2      N_noFeature     1174065            9040401            9184850\n",
       "3      N_ambiguous     1297209             357443             327034\n",
       "4  ENSG00000223972           0                  0                  0"
      ]
     },
     "execution_count": 7,
     "metadata": {},
     "output_type": "execute_result"
    }
   ],
   "source": [
    "fn_t3= \"/u/francoij/Untitled Folder/code_github/datasets/STAR_SRR1012922ReadsPerGene.out.tab\"\n",
    "data_t3 = pd.read_csv(fn_t3, sep=\"\\t\", header=None, names=[\"Gene_ids\",\"Treatment3\",\"counts_stranded_1\",\"counts_stranded_2\"])\n",
    "data_t3.head()"
   ]
  },
  {
   "cell_type": "code",
   "execution_count": 8,
   "metadata": {},
   "outputs": [
    {
     "data": {
      "text/html": [
       "<div>\n",
       "<style scoped>\n",
       "    .dataframe tbody tr th:only-of-type {\n",
       "        vertical-align: middle;\n",
       "    }\n",
       "\n",
       "    .dataframe tbody tr th {\n",
       "        vertical-align: top;\n",
       "    }\n",
       "\n",
       "    .dataframe thead th {\n",
       "        text-align: right;\n",
       "    }\n",
       "</style>\n",
       "<table border=\"1\" class=\"dataframe\">\n",
       "  <thead>\n",
       "    <tr style=\"text-align: right;\">\n",
       "      <th></th>\n",
       "      <th>Gene_ids</th>\n",
       "      <th>Controle1</th>\n",
       "      <th>counts_stranded_1</th>\n",
       "      <th>counts_stranded_2</th>\n",
       "    </tr>\n",
       "  </thead>\n",
       "  <tbody>\n",
       "    <tr>\n",
       "      <th>0</th>\n",
       "      <td>N_unmapped</td>\n",
       "      <td>3654719</td>\n",
       "      <td>3654719</td>\n",
       "      <td>3654719</td>\n",
       "    </tr>\n",
       "    <tr>\n",
       "      <th>1</th>\n",
       "      <td>N_multimapping</td>\n",
       "      <td>0</td>\n",
       "      <td>0</td>\n",
       "      <td>0</td>\n",
       "    </tr>\n",
       "    <tr>\n",
       "      <th>2</th>\n",
       "      <td>N_noFeature</td>\n",
       "      <td>739576</td>\n",
       "      <td>8698387</td>\n",
       "      <td>8628070</td>\n",
       "    </tr>\n",
       "    <tr>\n",
       "      <th>3</th>\n",
       "      <td>N_ambiguous</td>\n",
       "      <td>1268598</td>\n",
       "      <td>346502</td>\n",
       "      <td>319127</td>\n",
       "    </tr>\n",
       "    <tr>\n",
       "      <th>4</th>\n",
       "      <td>ENSG00000223972</td>\n",
       "      <td>0</td>\n",
       "      <td>0</td>\n",
       "      <td>0</td>\n",
       "    </tr>\n",
       "  </tbody>\n",
       "</table>\n",
       "</div>"
      ],
      "text/plain": [
       "          Gene_ids  Controle1  counts_stranded_1  counts_stranded_2\n",
       "0       N_unmapped    3654719            3654719            3654719\n",
       "1   N_multimapping          0                  0                  0\n",
       "2      N_noFeature     739576            8698387            8628070\n",
       "3      N_ambiguous    1268598             346502             319127\n",
       "4  ENSG00000223972          0                  0                  0"
      ]
     },
     "execution_count": 8,
     "metadata": {},
     "output_type": "execute_result"
    }
   ],
   "source": [
    "fn_c1= \"/u/francoij/Untitled Folder/code_github/datasets/STAR_SRR1012936ReadsPerGene.out.tab\"\n",
    "data_c1 = pd.read_csv(fn_c1, sep=\"\\t\", header=None, names=[\"Gene_ids\",\"Controle1\",\"counts_stranded_1\",\"counts_stranded_2\"])\n",
    "data_c1.head()"
   ]
  },
  {
   "cell_type": "code",
   "execution_count": 9,
   "metadata": {},
   "outputs": [
    {
     "data": {
      "text/html": [
       "<div>\n",
       "<style scoped>\n",
       "    .dataframe tbody tr th:only-of-type {\n",
       "        vertical-align: middle;\n",
       "    }\n",
       "\n",
       "    .dataframe tbody tr th {\n",
       "        vertical-align: top;\n",
       "    }\n",
       "\n",
       "    .dataframe thead th {\n",
       "        text-align: right;\n",
       "    }\n",
       "</style>\n",
       "<table border=\"1\" class=\"dataframe\">\n",
       "  <thead>\n",
       "    <tr style=\"text-align: right;\">\n",
       "      <th></th>\n",
       "      <th>Gene_ids</th>\n",
       "      <th>Controle2</th>\n",
       "      <th>counts_stranded_1</th>\n",
       "      <th>counts_stranded_2</th>\n",
       "    </tr>\n",
       "  </thead>\n",
       "  <tbody>\n",
       "    <tr>\n",
       "      <th>0</th>\n",
       "      <td>N_unmapped</td>\n",
       "      <td>3589816</td>\n",
       "      <td>3589816</td>\n",
       "      <td>3589816</td>\n",
       "    </tr>\n",
       "    <tr>\n",
       "      <th>1</th>\n",
       "      <td>N_multimapping</td>\n",
       "      <td>0</td>\n",
       "      <td>0</td>\n",
       "      <td>0</td>\n",
       "    </tr>\n",
       "    <tr>\n",
       "      <th>2</th>\n",
       "      <td>N_noFeature</td>\n",
       "      <td>863257</td>\n",
       "      <td>8710179</td>\n",
       "      <td>8640864</td>\n",
       "    </tr>\n",
       "    <tr>\n",
       "      <th>3</th>\n",
       "      <td>N_ambiguous</td>\n",
       "      <td>1337458</td>\n",
       "      <td>367426</td>\n",
       "      <td>342252</td>\n",
       "    </tr>\n",
       "    <tr>\n",
       "      <th>4</th>\n",
       "      <td>ENSG00000223972</td>\n",
       "      <td>0</td>\n",
       "      <td>0</td>\n",
       "      <td>0</td>\n",
       "    </tr>\n",
       "  </tbody>\n",
       "</table>\n",
       "</div>"
      ],
      "text/plain": [
       "          Gene_ids  Controle2  counts_stranded_1  counts_stranded_2\n",
       "0       N_unmapped    3589816            3589816            3589816\n",
       "1   N_multimapping          0                  0                  0\n",
       "2      N_noFeature     863257            8710179            8640864\n",
       "3      N_ambiguous    1337458             367426             342252\n",
       "4  ENSG00000223972          0                  0                  0"
      ]
     },
     "execution_count": 9,
     "metadata": {},
     "output_type": "execute_result"
    }
   ],
   "source": [
    "fn_c2= \"/u/francoij/Untitled Folder/code_github/datasets/STAR_SRR1012939ReadsPerGene.out.tab\"\n",
    "data_c2= pd.read_csv(fn_c2, sep=\"\\t\", header=None, names=[\"Gene_ids\",\"Controle2\",\"counts_stranded_1\",\"counts_stranded_2\"])\n",
    "data_c2.head()"
   ]
  },
  {
   "cell_type": "code",
   "execution_count": 10,
   "metadata": {},
   "outputs": [
    {
     "data": {
      "text/html": [
       "<div>\n",
       "<style scoped>\n",
       "    .dataframe tbody tr th:only-of-type {\n",
       "        vertical-align: middle;\n",
       "    }\n",
       "\n",
       "    .dataframe tbody tr th {\n",
       "        vertical-align: top;\n",
       "    }\n",
       "\n",
       "    .dataframe thead th {\n",
       "        text-align: right;\n",
       "    }\n",
       "</style>\n",
       "<table border=\"1\" class=\"dataframe\">\n",
       "  <thead>\n",
       "    <tr style=\"text-align: right;\">\n",
       "      <th></th>\n",
       "      <th>Gene_ids</th>\n",
       "      <th>Controle3</th>\n",
       "      <th>counts_stranded_1</th>\n",
       "      <th>counts_stranded_2</th>\n",
       "    </tr>\n",
       "  </thead>\n",
       "  <tbody>\n",
       "    <tr>\n",
       "      <th>0</th>\n",
       "      <td>N_unmapped</td>\n",
       "      <td>4092892</td>\n",
       "      <td>4092892</td>\n",
       "      <td>4092892</td>\n",
       "    </tr>\n",
       "    <tr>\n",
       "      <th>1</th>\n",
       "      <td>N_multimapping</td>\n",
       "      <td>0</td>\n",
       "      <td>0</td>\n",
       "      <td>0</td>\n",
       "    </tr>\n",
       "    <tr>\n",
       "      <th>2</th>\n",
       "      <td>N_noFeature</td>\n",
       "      <td>730043</td>\n",
       "      <td>9484802</td>\n",
       "      <td>9408369</td>\n",
       "    </tr>\n",
       "    <tr>\n",
       "      <th>3</th>\n",
       "      <td>N_ambiguous</td>\n",
       "      <td>1475810</td>\n",
       "      <td>403555</td>\n",
       "      <td>373281</td>\n",
       "    </tr>\n",
       "    <tr>\n",
       "      <th>4</th>\n",
       "      <td>ENSG00000223972</td>\n",
       "      <td>0</td>\n",
       "      <td>0</td>\n",
       "      <td>0</td>\n",
       "    </tr>\n",
       "  </tbody>\n",
       "</table>\n",
       "</div>"
      ],
      "text/plain": [
       "          Gene_ids  Controle3  counts_stranded_1  counts_stranded_2\n",
       "0       N_unmapped    4092892            4092892            4092892\n",
       "1   N_multimapping          0                  0                  0\n",
       "2      N_noFeature     730043            9484802            9408369\n",
       "3      N_ambiguous    1475810             403555             373281\n",
       "4  ENSG00000223972          0                  0                  0"
      ]
     },
     "execution_count": 10,
     "metadata": {},
     "output_type": "execute_result"
    }
   ],
   "source": [
    "fn_c3= \"/u/francoij/Untitled Folder/code_github/datasets/STAR_SRR1012942ReadsPerGene.out.tab\"\n",
    "data_c3= pd.read_csv(fn_c3, sep=\"\\t\", header=None, names=[\"Gene_ids\",\"Controle3\",\"counts_stranded_1\",\"counts_stranded_2\"])\n",
    "data_c3.head()"
   ]
  },
  {
   "cell_type": "code",
   "execution_count": 11,
   "metadata": {},
   "outputs": [
    {
     "data": {
      "text/html": [
       "<div>\n",
       "<style scoped>\n",
       "    .dataframe tbody tr th:only-of-type {\n",
       "        vertical-align: middle;\n",
       "    }\n",
       "\n",
       "    .dataframe tbody tr th {\n",
       "        vertical-align: top;\n",
       "    }\n",
       "\n",
       "    .dataframe thead th {\n",
       "        text-align: right;\n",
       "    }\n",
       "</style>\n",
       "<table border=\"1\" class=\"dataframe\">\n",
       "  <thead>\n",
       "    <tr style=\"text-align: right;\">\n",
       "      <th></th>\n",
       "      <th>Gene_ids</th>\n",
       "      <th>Treatment1</th>\n",
       "    </tr>\n",
       "  </thead>\n",
       "  <tbody>\n",
       "    <tr>\n",
       "      <th>4</th>\n",
       "      <td>ENSG00000223972</td>\n",
       "      <td>1</td>\n",
       "    </tr>\n",
       "    <tr>\n",
       "      <th>5</th>\n",
       "      <td>ENSG00000227232</td>\n",
       "      <td>1</td>\n",
       "    </tr>\n",
       "    <tr>\n",
       "      <th>6</th>\n",
       "      <td>ENSG00000278267</td>\n",
       "      <td>0</td>\n",
       "    </tr>\n",
       "    <tr>\n",
       "      <th>7</th>\n",
       "      <td>ENSG00000243485</td>\n",
       "      <td>0</td>\n",
       "    </tr>\n",
       "    <tr>\n",
       "      <th>8</th>\n",
       "      <td>ENSG00000284332</td>\n",
       "      <td>0</td>\n",
       "    </tr>\n",
       "  </tbody>\n",
       "</table>\n",
       "</div>"
      ],
      "text/plain": [
       "          Gene_ids  Treatment1\n",
       "4  ENSG00000223972           1\n",
       "5  ENSG00000227232           1\n",
       "6  ENSG00000278267           0\n",
       "7  ENSG00000243485           0\n",
       "8  ENSG00000284332           0"
      ]
     },
     "execution_count": 11,
     "metadata": {},
     "output_type": "execute_result"
    }
   ],
   "source": [
    "dataSubset_t1= data_t1.iloc[4:,0:2]\n",
    "dataSubset_t1.head()"
   ]
  },
  {
   "cell_type": "code",
   "execution_count": 12,
   "metadata": {},
   "outputs": [
    {
     "data": {
      "text/html": [
       "<div>\n",
       "<style scoped>\n",
       "    .dataframe tbody tr th:only-of-type {\n",
       "        vertical-align: middle;\n",
       "    }\n",
       "\n",
       "    .dataframe tbody tr th {\n",
       "        vertical-align: top;\n",
       "    }\n",
       "\n",
       "    .dataframe thead th {\n",
       "        text-align: right;\n",
       "    }\n",
       "</style>\n",
       "<table border=\"1\" class=\"dataframe\">\n",
       "  <thead>\n",
       "    <tr style=\"text-align: right;\">\n",
       "      <th></th>\n",
       "      <th>Gene_ids</th>\n",
       "      <th>Treatment2</th>\n",
       "    </tr>\n",
       "  </thead>\n",
       "  <tbody>\n",
       "    <tr>\n",
       "      <th>4</th>\n",
       "      <td>ENSG00000223972</td>\n",
       "      <td>0</td>\n",
       "    </tr>\n",
       "    <tr>\n",
       "      <th>5</th>\n",
       "      <td>ENSG00000227232</td>\n",
       "      <td>0</td>\n",
       "    </tr>\n",
       "    <tr>\n",
       "      <th>6</th>\n",
       "      <td>ENSG00000278267</td>\n",
       "      <td>0</td>\n",
       "    </tr>\n",
       "    <tr>\n",
       "      <th>7</th>\n",
       "      <td>ENSG00000243485</td>\n",
       "      <td>0</td>\n",
       "    </tr>\n",
       "    <tr>\n",
       "      <th>8</th>\n",
       "      <td>ENSG00000284332</td>\n",
       "      <td>0</td>\n",
       "    </tr>\n",
       "  </tbody>\n",
       "</table>\n",
       "</div>"
      ],
      "text/plain": [
       "          Gene_ids  Treatment2\n",
       "4  ENSG00000223972           0\n",
       "5  ENSG00000227232           0\n",
       "6  ENSG00000278267           0\n",
       "7  ENSG00000243485           0\n",
       "8  ENSG00000284332           0"
      ]
     },
     "execution_count": 12,
     "metadata": {},
     "output_type": "execute_result"
    }
   ],
   "source": [
    "dataSubset_t2= data_t2.iloc[4:,0:2]\n",
    "dataSubset_t2.head()"
   ]
  },
  {
   "cell_type": "code",
   "execution_count": 13,
   "metadata": {},
   "outputs": [
    {
     "data": {
      "text/html": [
       "<div>\n",
       "<style scoped>\n",
       "    .dataframe tbody tr th:only-of-type {\n",
       "        vertical-align: middle;\n",
       "    }\n",
       "\n",
       "    .dataframe tbody tr th {\n",
       "        vertical-align: top;\n",
       "    }\n",
       "\n",
       "    .dataframe thead th {\n",
       "        text-align: right;\n",
       "    }\n",
       "</style>\n",
       "<table border=\"1\" class=\"dataframe\">\n",
       "  <thead>\n",
       "    <tr style=\"text-align: right;\">\n",
       "      <th></th>\n",
       "      <th>Gene_ids</th>\n",
       "      <th>Treatment3</th>\n",
       "    </tr>\n",
       "  </thead>\n",
       "  <tbody>\n",
       "    <tr>\n",
       "      <th>4</th>\n",
       "      <td>ENSG00000223972</td>\n",
       "      <td>0</td>\n",
       "    </tr>\n",
       "    <tr>\n",
       "      <th>5</th>\n",
       "      <td>ENSG00000227232</td>\n",
       "      <td>0</td>\n",
       "    </tr>\n",
       "    <tr>\n",
       "      <th>6</th>\n",
       "      <td>ENSG00000278267</td>\n",
       "      <td>0</td>\n",
       "    </tr>\n",
       "    <tr>\n",
       "      <th>7</th>\n",
       "      <td>ENSG00000243485</td>\n",
       "      <td>0</td>\n",
       "    </tr>\n",
       "    <tr>\n",
       "      <th>8</th>\n",
       "      <td>ENSG00000284332</td>\n",
       "      <td>0</td>\n",
       "    </tr>\n",
       "  </tbody>\n",
       "</table>\n",
       "</div>"
      ],
      "text/plain": [
       "          Gene_ids  Treatment3\n",
       "4  ENSG00000223972           0\n",
       "5  ENSG00000227232           0\n",
       "6  ENSG00000278267           0\n",
       "7  ENSG00000243485           0\n",
       "8  ENSG00000284332           0"
      ]
     },
     "execution_count": 13,
     "metadata": {},
     "output_type": "execute_result"
    }
   ],
   "source": [
    "dataSubset_t3= data_t3.iloc[4:,0:2]\n",
    "dataSubset_t3.head()"
   ]
  },
  {
   "cell_type": "code",
   "execution_count": 14,
   "metadata": {},
   "outputs": [
    {
     "data": {
      "text/html": [
       "<div>\n",
       "<style scoped>\n",
       "    .dataframe tbody tr th:only-of-type {\n",
       "        vertical-align: middle;\n",
       "    }\n",
       "\n",
       "    .dataframe tbody tr th {\n",
       "        vertical-align: top;\n",
       "    }\n",
       "\n",
       "    .dataframe thead th {\n",
       "        text-align: right;\n",
       "    }\n",
       "</style>\n",
       "<table border=\"1\" class=\"dataframe\">\n",
       "  <thead>\n",
       "    <tr style=\"text-align: right;\">\n",
       "      <th></th>\n",
       "      <th>Gene_ids</th>\n",
       "      <th>Controle1</th>\n",
       "    </tr>\n",
       "  </thead>\n",
       "  <tbody>\n",
       "    <tr>\n",
       "      <th>4</th>\n",
       "      <td>ENSG00000223972</td>\n",
       "      <td>0</td>\n",
       "    </tr>\n",
       "    <tr>\n",
       "      <th>5</th>\n",
       "      <td>ENSG00000227232</td>\n",
       "      <td>1</td>\n",
       "    </tr>\n",
       "    <tr>\n",
       "      <th>6</th>\n",
       "      <td>ENSG00000278267</td>\n",
       "      <td>0</td>\n",
       "    </tr>\n",
       "    <tr>\n",
       "      <th>7</th>\n",
       "      <td>ENSG00000243485</td>\n",
       "      <td>0</td>\n",
       "    </tr>\n",
       "    <tr>\n",
       "      <th>8</th>\n",
       "      <td>ENSG00000284332</td>\n",
       "      <td>0</td>\n",
       "    </tr>\n",
       "  </tbody>\n",
       "</table>\n",
       "</div>"
      ],
      "text/plain": [
       "          Gene_ids  Controle1\n",
       "4  ENSG00000223972          0\n",
       "5  ENSG00000227232          1\n",
       "6  ENSG00000278267          0\n",
       "7  ENSG00000243485          0\n",
       "8  ENSG00000284332          0"
      ]
     },
     "execution_count": 14,
     "metadata": {},
     "output_type": "execute_result"
    }
   ],
   "source": [
    "dataSubset_c1= data_c1.iloc[4:,0:2]\n",
    "dataSubset_c1.head()"
   ]
  },
  {
   "cell_type": "code",
   "execution_count": 15,
   "metadata": {},
   "outputs": [
    {
     "data": {
      "text/html": [
       "<div>\n",
       "<style scoped>\n",
       "    .dataframe tbody tr th:only-of-type {\n",
       "        vertical-align: middle;\n",
       "    }\n",
       "\n",
       "    .dataframe tbody tr th {\n",
       "        vertical-align: top;\n",
       "    }\n",
       "\n",
       "    .dataframe thead th {\n",
       "        text-align: right;\n",
       "    }\n",
       "</style>\n",
       "<table border=\"1\" class=\"dataframe\">\n",
       "  <thead>\n",
       "    <tr style=\"text-align: right;\">\n",
       "      <th></th>\n",
       "      <th>Gene_ids</th>\n",
       "      <th>Controle2</th>\n",
       "    </tr>\n",
       "  </thead>\n",
       "  <tbody>\n",
       "    <tr>\n",
       "      <th>4</th>\n",
       "      <td>ENSG00000223972</td>\n",
       "      <td>0</td>\n",
       "    </tr>\n",
       "    <tr>\n",
       "      <th>5</th>\n",
       "      <td>ENSG00000227232</td>\n",
       "      <td>0</td>\n",
       "    </tr>\n",
       "    <tr>\n",
       "      <th>6</th>\n",
       "      <td>ENSG00000278267</td>\n",
       "      <td>0</td>\n",
       "    </tr>\n",
       "    <tr>\n",
       "      <th>7</th>\n",
       "      <td>ENSG00000243485</td>\n",
       "      <td>0</td>\n",
       "    </tr>\n",
       "    <tr>\n",
       "      <th>8</th>\n",
       "      <td>ENSG00000284332</td>\n",
       "      <td>0</td>\n",
       "    </tr>\n",
       "  </tbody>\n",
       "</table>\n",
       "</div>"
      ],
      "text/plain": [
       "          Gene_ids  Controle2\n",
       "4  ENSG00000223972          0\n",
       "5  ENSG00000227232          0\n",
       "6  ENSG00000278267          0\n",
       "7  ENSG00000243485          0\n",
       "8  ENSG00000284332          0"
      ]
     },
     "execution_count": 15,
     "metadata": {},
     "output_type": "execute_result"
    }
   ],
   "source": [
    "dataSubset_c2= data_c2.iloc[4:,0:2]\n",
    "dataSubset_c2.head()"
   ]
  },
  {
   "cell_type": "code",
   "execution_count": 16,
   "metadata": {},
   "outputs": [
    {
     "data": {
      "text/html": [
       "<div>\n",
       "<style scoped>\n",
       "    .dataframe tbody tr th:only-of-type {\n",
       "        vertical-align: middle;\n",
       "    }\n",
       "\n",
       "    .dataframe tbody tr th {\n",
       "        vertical-align: top;\n",
       "    }\n",
       "\n",
       "    .dataframe thead th {\n",
       "        text-align: right;\n",
       "    }\n",
       "</style>\n",
       "<table border=\"1\" class=\"dataframe\">\n",
       "  <thead>\n",
       "    <tr style=\"text-align: right;\">\n",
       "      <th></th>\n",
       "      <th>Gene_ids</th>\n",
       "      <th>Controle3</th>\n",
       "    </tr>\n",
       "  </thead>\n",
       "  <tbody>\n",
       "    <tr>\n",
       "      <th>4</th>\n",
       "      <td>ENSG00000223972</td>\n",
       "      <td>0</td>\n",
       "    </tr>\n",
       "    <tr>\n",
       "      <th>5</th>\n",
       "      <td>ENSG00000227232</td>\n",
       "      <td>1</td>\n",
       "    </tr>\n",
       "    <tr>\n",
       "      <th>6</th>\n",
       "      <td>ENSG00000278267</td>\n",
       "      <td>0</td>\n",
       "    </tr>\n",
       "    <tr>\n",
       "      <th>7</th>\n",
       "      <td>ENSG00000243485</td>\n",
       "      <td>0</td>\n",
       "    </tr>\n",
       "    <tr>\n",
       "      <th>8</th>\n",
       "      <td>ENSG00000284332</td>\n",
       "      <td>0</td>\n",
       "    </tr>\n",
       "  </tbody>\n",
       "</table>\n",
       "</div>"
      ],
      "text/plain": [
       "          Gene_ids  Controle3\n",
       "4  ENSG00000223972          0\n",
       "5  ENSG00000227232          1\n",
       "6  ENSG00000278267          0\n",
       "7  ENSG00000243485          0\n",
       "8  ENSG00000284332          0"
      ]
     },
     "execution_count": 16,
     "metadata": {},
     "output_type": "execute_result"
    }
   ],
   "source": [
    "dataSubset_c3= data_c3.iloc[4:,0:2]\n",
    "dataSubset_c3.head()"
   ]
  },
  {
   "cell_type": "code",
   "execution_count": 17,
   "metadata": {},
   "outputs": [
    {
     "name": "stdout",
     "output_type": "stream",
     "text": [
      "0 STAR_SRR1012918ReadsPerGene.out (1).tab\n",
      "1 STAR_SRR1012920ReadsPerGene.out.tab\n",
      "2 STAR_SRR1012922ReadsPerGene.out.tab\n",
      "3 STAR_SRR1012936ReadsPerGene.out.tab\n",
      "4 STAR_SRR1012939ReadsPerGene.out.tab\n",
      "5 STAR_SRR1012942ReadsPerGene.out.tab\n"
     ]
    }
   ],
   "source": [
    "import os\n",
    "\n",
    "### First, create a list with all the genes counts filenames. \n",
    "fn = [\"STAR_SRR1012918ReadsPerGene.out (1).tab\",\"STAR_SRR1012920ReadsPerGene.out.tab\",\n",
    "      \"STAR_SRR1012922ReadsPerGene.out.tab\",\"STAR_SRR1012936ReadsPerGene.out.tab\",\n",
    "      \"STAR_SRR1012939ReadsPerGene.out.tab\",\"STAR_SRR1012942ReadsPerGene.out.tab\"]\n",
    "\n",
    "\n",
    "### Second, create a list of sample label. Make sure that the labels are \n",
    "### in the same order as the filenames!\n",
    "sampleLabels = [\"Treatment1\",\"Treatment2\",\"Treatment3\",\n",
    "                \"Controle1\",\"Controle2\",\"Controle3\"]\n",
    "\n",
    "### Thirs, define a variable for the number of files, and an dataFrame that \n",
    "### will contain all of your samples data.\n",
    "N = 0\n",
    "geneCount = pd.DataFrame()\n",
    "\n",
    "### Fourth, create a for loop that will import each gene count file \n",
    "### and merge its data to your global dataset.\n",
    "for i in range(0, len(fn)) :\n",
    "   \n",
    "    ### Get sample filename\n",
    "    fn_tmp = fn[i]\n",
    "    print(i, fn_tmp)\n",
    "    \n",
    "    ### Import sample data (similar to the single sample imported above\n",
    "    ### Make sure to change the label for each sample\n",
    "    data_tmp = pd.read_csv(F\"/u/francoij/Untitled Folder/code_github/datasets/{fn_tmp}\", sep=\"\\t\",\n",
    "                          header=None, names = [\"Gene_ids\", sampleLabels[i], \n",
    "                                                \"stranded_1\", \"Stranded_2\"])\n",
    "    \n",
    "    data_clean = data_tmp.iloc[4:, 0:2]\n",
    "    \n",
    "    #print(data_tmp.head())\n",
    "    \n",
    "    ### Select the relevant information (similar to the single sample imported above\n",
    "    #subset_tmp = \n",
    "    \n",
    "    ### Merge the newly imported sample to the geneCount df\n",
    "    if geneCount.empty:\n",
    "        geneCount=data_clean\n",
    "    else:\n",
    "        geneCount = pd.merge(geneCount,data_clean, on=\"Gene_ids\")"
   ]
  },
  {
   "cell_type": "code",
   "execution_count": 18,
   "metadata": {},
   "outputs": [
    {
     "data": {
      "text/html": [
       "<div>\n",
       "<style scoped>\n",
       "    .dataframe tbody tr th:only-of-type {\n",
       "        vertical-align: middle;\n",
       "    }\n",
       "\n",
       "    .dataframe tbody tr th {\n",
       "        vertical-align: top;\n",
       "    }\n",
       "\n",
       "    .dataframe thead th {\n",
       "        text-align: right;\n",
       "    }\n",
       "</style>\n",
       "<table border=\"1\" class=\"dataframe\">\n",
       "  <thead>\n",
       "    <tr style=\"text-align: right;\">\n",
       "      <th></th>\n",
       "      <th>Gene_ids</th>\n",
       "      <th>Treatment1</th>\n",
       "      <th>Treatment2</th>\n",
       "      <th>Treatment3</th>\n",
       "      <th>Controle1</th>\n",
       "      <th>Controle2</th>\n",
       "      <th>Controle3</th>\n",
       "    </tr>\n",
       "  </thead>\n",
       "  <tbody>\n",
       "    <tr>\n",
       "      <th>0</th>\n",
       "      <td>ENSG00000223972</td>\n",
       "      <td>1</td>\n",
       "      <td>0</td>\n",
       "      <td>0</td>\n",
       "      <td>0</td>\n",
       "      <td>0</td>\n",
       "      <td>0</td>\n",
       "    </tr>\n",
       "    <tr>\n",
       "      <th>1</th>\n",
       "      <td>ENSG00000227232</td>\n",
       "      <td>1</td>\n",
       "      <td>0</td>\n",
       "      <td>0</td>\n",
       "      <td>1</td>\n",
       "      <td>0</td>\n",
       "      <td>1</td>\n",
       "    </tr>\n",
       "    <tr>\n",
       "      <th>2</th>\n",
       "      <td>ENSG00000278267</td>\n",
       "      <td>0</td>\n",
       "      <td>0</td>\n",
       "      <td>0</td>\n",
       "      <td>0</td>\n",
       "      <td>0</td>\n",
       "      <td>0</td>\n",
       "    </tr>\n",
       "    <tr>\n",
       "      <th>3</th>\n",
       "      <td>ENSG00000243485</td>\n",
       "      <td>0</td>\n",
       "      <td>0</td>\n",
       "      <td>0</td>\n",
       "      <td>0</td>\n",
       "      <td>0</td>\n",
       "      <td>0</td>\n",
       "    </tr>\n",
       "    <tr>\n",
       "      <th>4</th>\n",
       "      <td>ENSG00000284332</td>\n",
       "      <td>0</td>\n",
       "      <td>0</td>\n",
       "      <td>0</td>\n",
       "      <td>0</td>\n",
       "      <td>0</td>\n",
       "      <td>0</td>\n",
       "    </tr>\n",
       "  </tbody>\n",
       "</table>\n",
       "</div>"
      ],
      "text/plain": [
       "          Gene_ids  Treatment1  Treatment2  Treatment3  Controle1  Controle2  \\\n",
       "0  ENSG00000223972           1           0           0          0          0   \n",
       "1  ENSG00000227232           1           0           0          1          0   \n",
       "2  ENSG00000278267           0           0           0          0          0   \n",
       "3  ENSG00000243485           0           0           0          0          0   \n",
       "4  ENSG00000284332           0           0           0          0          0   \n",
       "\n",
       "   Controle3  \n",
       "0          0  \n",
       "1          1  \n",
       "2          0  \n",
       "3          0  \n",
       "4          0  "
      ]
     },
     "execution_count": 18,
     "metadata": {},
     "output_type": "execute_result"
    }
   ],
   "source": [
    "geneCount.head()"
   ]
  },
  {
   "cell_type": "code",
   "execution_count": 19,
   "metadata": {},
   "outputs": [
    {
     "data": {
      "text/html": [
       "<div>\n",
       "<style scoped>\n",
       "    .dataframe tbody tr th:only-of-type {\n",
       "        vertical-align: middle;\n",
       "    }\n",
       "\n",
       "    .dataframe tbody tr th {\n",
       "        vertical-align: top;\n",
       "    }\n",
       "\n",
       "    .dataframe thead th {\n",
       "        text-align: right;\n",
       "    }\n",
       "</style>\n",
       "<table border=\"1\" class=\"dataframe\">\n",
       "  <thead>\n",
       "    <tr style=\"text-align: right;\">\n",
       "      <th></th>\n",
       "      <th>Gene_ids</th>\n",
       "      <th>Treatment1</th>\n",
       "      <th>Treatment2</th>\n",
       "      <th>Treatment3</th>\n",
       "      <th>Controle1</th>\n",
       "      <th>Controle2</th>\n",
       "      <th>Controle3</th>\n",
       "    </tr>\n",
       "  </thead>\n",
       "  <tbody>\n",
       "    <tr>\n",
       "      <th>60670</th>\n",
       "      <td>ENSG00000271254</td>\n",
       "      <td>209</td>\n",
       "      <td>251</td>\n",
       "      <td>285</td>\n",
       "      <td>180</td>\n",
       "      <td>160</td>\n",
       "      <td>229</td>\n",
       "    </tr>\n",
       "    <tr>\n",
       "      <th>60671</th>\n",
       "      <td>ENSG00000275405</td>\n",
       "      <td>0</td>\n",
       "      <td>0</td>\n",
       "      <td>0</td>\n",
       "      <td>0</td>\n",
       "      <td>0</td>\n",
       "      <td>0</td>\n",
       "    </tr>\n",
       "    <tr>\n",
       "      <th>60672</th>\n",
       "      <td>ENSG00000275987</td>\n",
       "      <td>0</td>\n",
       "      <td>0</td>\n",
       "      <td>0</td>\n",
       "      <td>0</td>\n",
       "      <td>0</td>\n",
       "      <td>0</td>\n",
       "    </tr>\n",
       "    <tr>\n",
       "      <th>60673</th>\n",
       "      <td>ENSG00000277475</td>\n",
       "      <td>0</td>\n",
       "      <td>0</td>\n",
       "      <td>0</td>\n",
       "      <td>0</td>\n",
       "      <td>0</td>\n",
       "      <td>0</td>\n",
       "    </tr>\n",
       "    <tr>\n",
       "      <th>60674</th>\n",
       "      <td>ENSG00000268674</td>\n",
       "      <td>0</td>\n",
       "      <td>0</td>\n",
       "      <td>0</td>\n",
       "      <td>0</td>\n",
       "      <td>0</td>\n",
       "      <td>0</td>\n",
       "    </tr>\n",
       "  </tbody>\n",
       "</table>\n",
       "</div>"
      ],
      "text/plain": [
       "              Gene_ids  Treatment1  Treatment2  Treatment3  Controle1  \\\n",
       "60670  ENSG00000271254         209         251         285        180   \n",
       "60671  ENSG00000275405           0           0           0          0   \n",
       "60672  ENSG00000275987           0           0           0          0   \n",
       "60673  ENSG00000277475           0           0           0          0   \n",
       "60674  ENSG00000268674           0           0           0          0   \n",
       "\n",
       "       Controle2  Controle3  \n",
       "60670        160        229  \n",
       "60671          0          0  \n",
       "60672          0          0  \n",
       "60673          0          0  \n",
       "60674          0          0  "
      ]
     },
     "execution_count": 19,
     "metadata": {},
     "output_type": "execute_result"
    }
   ],
   "source": [
    "geneCount.tail()"
   ]
  },
  {
   "cell_type": "code",
   "execution_count": 20,
   "metadata": {
    "ExecuteTime": {
     "end_time": "2021-07-08T18:14:32.124483Z",
     "start_time": "2021-07-08T18:14:31.869418Z"
    }
   },
   "outputs": [
    {
     "data": {
      "text/html": [
       "<div>\n",
       "<style scoped>\n",
       "    .dataframe tbody tr th:only-of-type {\n",
       "        vertical-align: middle;\n",
       "    }\n",
       "\n",
       "    .dataframe tbody tr th {\n",
       "        vertical-align: top;\n",
       "    }\n",
       "\n",
       "    .dataframe thead th {\n",
       "        text-align: right;\n",
       "    }\n",
       "</style>\n",
       "<table border=\"1\" class=\"dataframe\">\n",
       "  <thead>\n",
       "    <tr style=\"text-align: right;\">\n",
       "      <th></th>\n",
       "      <th>Gene_ids</th>\n",
       "      <th>Treatment1</th>\n",
       "      <th>Treatment2</th>\n",
       "      <th>Treatment3</th>\n",
       "      <th>Controle1</th>\n",
       "      <th>Controle2</th>\n",
       "      <th>Controle3</th>\n",
       "    </tr>\n",
       "  </thead>\n",
       "  <tbody>\n",
       "    <tr>\n",
       "      <th>0</th>\n",
       "      <td>ENSG00000223972</td>\n",
       "      <td>1</td>\n",
       "      <td>0</td>\n",
       "      <td>0</td>\n",
       "      <td>0</td>\n",
       "      <td>0</td>\n",
       "      <td>0</td>\n",
       "    </tr>\n",
       "    <tr>\n",
       "      <th>1</th>\n",
       "      <td>ENSG00000227232</td>\n",
       "      <td>1</td>\n",
       "      <td>0</td>\n",
       "      <td>0</td>\n",
       "      <td>1</td>\n",
       "      <td>0</td>\n",
       "      <td>1</td>\n",
       "    </tr>\n",
       "    <tr>\n",
       "      <th>2</th>\n",
       "      <td>ENSG00000278267</td>\n",
       "      <td>0</td>\n",
       "      <td>0</td>\n",
       "      <td>0</td>\n",
       "      <td>0</td>\n",
       "      <td>0</td>\n",
       "      <td>0</td>\n",
       "    </tr>\n",
       "    <tr>\n",
       "      <th>3</th>\n",
       "      <td>ENSG00000243485</td>\n",
       "      <td>0</td>\n",
       "      <td>0</td>\n",
       "      <td>0</td>\n",
       "      <td>0</td>\n",
       "      <td>0</td>\n",
       "      <td>0</td>\n",
       "    </tr>\n",
       "    <tr>\n",
       "      <th>4</th>\n",
       "      <td>ENSG00000284332</td>\n",
       "      <td>0</td>\n",
       "      <td>0</td>\n",
       "      <td>0</td>\n",
       "      <td>0</td>\n",
       "      <td>0</td>\n",
       "      <td>0</td>\n",
       "    </tr>\n",
       "  </tbody>\n",
       "</table>\n",
       "</div>"
      ],
      "text/plain": [
       "          Gene_ids  Treatment1  Treatment2  Treatment3  Controle1  Controle2  \\\n",
       "0  ENSG00000223972           1           0           0          0          0   \n",
       "1  ENSG00000227232           1           0           0          1          0   \n",
       "2  ENSG00000278267           0           0           0          0          0   \n",
       "3  ENSG00000243485           0           0           0          0          0   \n",
       "4  ENSG00000284332           0           0           0          0          0   \n",
       "\n",
       "   Controle3  \n",
       "0          0  \n",
       "1          1  \n",
       "2          0  \n",
       "3          0  \n",
       "4          0  "
      ]
     },
     "execution_count": 20,
     "metadata": {},
     "output_type": "execute_result"
    }
   ],
   "source": [
    "### You now need to export your geneCount dataFrame to a file so \n",
    "### that you can use it to do your DEG.\n",
    "\n",
    "### You should export it as a tab-seperated file. You can use the to_csv() function.\n",
    "### You should not export index numbers. You can export the header.\n",
    "#on veut les header les noms mais pas le uname donc c'est l'index on met non.\n",
    "geneCount.to_csv(\"all_gene_count_all_samples.tsv\", sep=\"\\t\", header=True, index=False)\n",
    "\n",
    "### Read data from exported file\n",
    "geneCount_open = pd.read_csv(\"all_gene_count_all_samples.tsv\", sep=\"\\t\")\n",
    "geneCount_open.head()"
   ]
  },
  {
   "cell_type": "markdown",
   "metadata": {},
   "source": [
    "## Gene counts exploration"
   ]
  },
  {
   "cell_type": "code",
   "execution_count": 21,
   "metadata": {
    "ExecuteTime": {
     "end_time": "2021-07-08T18:53:39.805102Z",
     "start_time": "2021-07-08T18:53:39.784287Z"
    }
   },
   "outputs": [],
   "source": [
    "import seaborn as sns\n",
    "import matplotlib.pyplot as plt\n",
    "sns.set(rc={'figure.figsize':(4, 2)})\n",
    "sns.set_theme(context=\"notebook\", style=\"white\")"
   ]
  },
  {
   "cell_type": "code",
   "execution_count": 22,
   "metadata": {},
   "outputs": [
    {
     "data": {
      "image/png": "[encoded data removed]",
      "text/plain": [
       "<Figure size 400x200 with 1 Axes>"
      ]
     },
     "metadata": {},
     "output_type": "display_data"
    }
   ],
   "source": [
    "ratio1 = geneCount_open.Controle1 / geneCount_open.Treatment1\n",
    "sns.histplot(x= ratio1)\n",
    "sns.despine()"
   ]
  },
  {
   "cell_type": "code",
   "execution_count": 23,
   "metadata": {
    "ExecuteTime": {
     "end_time": "2021-07-08T18:18:49.794800Z",
     "start_time": "2021-07-08T18:18:49.783792Z"
    }
   },
   "outputs": [
    {
     "data": {
      "text/plain": [
       "np.float64(inf)"
      ]
     },
     "execution_count": 23,
     "metadata": {},
     "output_type": "execute_result"
    }
   ],
   "source": [
    "### Calculate the average ratio of Control1 : Treatment1\n",
    "### Is there a problem?\n",
    "ratio1.mean()"
   ]
  },
  {
   "cell_type": "code",
   "execution_count": 24,
   "metadata": {},
   "outputs": [
    {
     "data": {
      "image/png": "[encoded data removed]",
      "text/plain": [
       "<Figure size 400x200 with 1 Axes>"
      ]
     },
     "metadata": {},
     "output_type": "display_data"
    }
   ],
   "source": [
    "import numpy as np\n",
    "\n",
    "### Calculate the log2 of the ratio Control1 : Treatment1.\n",
    "### Plot its distribution and calculate the average.\n",
    "log_ratio1 = np.log2(geneCount_open[\"Treatment1\"] +0.1) - np.log2(geneCount_open[\"Controle1\"] +0.1)\n",
    "sns.histplot(x=log_ratio1)\n",
    "sns.despine()"
   ]
  },
  {
   "cell_type": "code",
   "execution_count": 25,
   "metadata": {},
   "outputs": [],
   "source": [
    "### What can we tell from the above plot and the calculated average value?\n"
   ]
  },
  {
   "cell_type": "code",
   "execution_count": 26,
   "metadata": {},
   "outputs": [
    {
     "name": "stdout",
     "output_type": "stream",
     "text": [
      "True\n",
      "False\n"
     ]
    }
   ],
   "source": [
    "print(True or False)\n",
    "print (True and False)"
   ]
  },
  {
   "cell_type": "code",
   "execution_count": 27,
   "metadata": {},
   "outputs": [
    {
     "data": {
      "text/plain": [
       "0         True\n",
       "1        False\n",
       "2        False\n",
       "3        False\n",
       "4        False\n",
       "         ...  \n",
       "60670     True\n",
       "60671    False\n",
       "60672    False\n",
       "60673    False\n",
       "60674    False\n",
       "Length: 60675, dtype: bool"
      ]
     },
     "execution_count": 27,
     "metadata": {},
     "output_type": "execute_result"
    }
   ],
   "source": [
    "log_ratio1 > 0"
   ]
  },
  {
   "cell_type": "code",
   "execution_count": 28,
   "metadata": {},
   "outputs": [
    {
     "data": {
      "text/plain": [
       "0        ENSG00000223972\n",
       "9        ENSG00000238009\n",
       "33       ENSG00000225972\n",
       "34       ENSG00000225630\n",
       "37       ENSG00000229344\n",
       "              ...       \n",
       "60613    ENSG00000198727\n",
       "60614    ENSG00000210195\n",
       "60615    ENSG00000210196\n",
       "60641    ENSG00000276256\n",
       "60670    ENSG00000271254\n",
       "Name: Gene_ids, Length: 15025, dtype: object"
      ]
     },
     "execution_count": 28,
     "metadata": {},
     "output_type": "execute_result"
    }
   ],
   "source": [
    "### Which genes are over expressed in the Treatment?\n",
    "geneCount_open.loc[log_ratio1 > 0,\"Gene_ids\"]"
   ]
  },
  {
   "cell_type": "code",
   "execution_count": 29,
   "metadata": {},
   "outputs": [
    {
     "data": {
      "text/plain": [
       "np.int64(15025)"
      ]
     },
     "execution_count": 29,
     "metadata": {},
     "output_type": "execute_result"
    }
   ],
   "source": [
    "geneCount_open.loc[log_ratio1 > 0,\"Gene_ids\"].count()"
   ]
  },
  {
   "cell_type": "code",
   "execution_count": 30,
   "metadata": {},
   "outputs": [
    {
     "data": {
      "text/plain": [
       "30337    False\n",
       "37112    False\n",
       "37113    False\n",
       "37114    False\n",
       "37115    False\n",
       "         ...  \n",
       "42735     True\n",
       "42734     True\n",
       "12902     True\n",
       "12895     True\n",
       "0         True\n",
       "Length: 60675, dtype: bool"
      ]
     },
     "execution_count": 30,
     "metadata": {},
     "output_type": "execute_result"
    }
   ],
   "source": [
    "(log_ratio1 > 0).sort_values()"
   ]
  },
  {
   "cell_type": "code",
   "execution_count": 31,
   "metadata": {},
   "outputs": [
    {
     "data": {
      "text/plain": [
       "55567    8.370687\n",
       "52218    8.280771\n",
       "10110    7.912889\n",
       "31966    7.721099\n",
       "27308    7.721099\n",
       "15566    7.721099\n",
       "7693     7.577429\n",
       "7994     7.577429\n",
       "24035    7.499846\n",
       "36564    7.499846\n",
       "dtype: float64"
      ]
     },
     "execution_count": 31,
     "metadata": {},
     "output_type": "execute_result"
    }
   ],
   "source": [
    "### Which genes are the most over expressed in the Treatment?\n",
    "### Let's select the top10\n",
    "x = geneCount_open.loc[log_ratio1 > 0,\"Gene_ids\"]\n",
    "log_ratio1.sort_values(ascending=False).head(10)"
   ]
  },
  {
   "cell_type": "code",
   "execution_count": 32,
   "metadata": {},
   "outputs": [
    {
     "data": {
      "text/plain": [
       "55567    ENSG00000213253\n",
       "52218    ENSG00000265091\n",
       "10110    ENSG00000227337\n",
       "31966    ENSG00000180176\n",
       "27308    ENSG00000136574\n",
       "15566    ENSG00000164362\n",
       "7693     ENSG00000230993\n",
       "7994     ENSG00000233045\n",
       "24035    ENSG00000223657\n",
       "36564    ENSG00000151224\n",
       "Name: Gene_ids, dtype: object"
      ]
     },
     "execution_count": 32,
     "metadata": {},
     "output_type": "execute_result"
    }
   ],
   "source": [
    "geneCount_open.loc[log_ratio1 > 0,\"Gene_ids\"]\n",
    "top10_indext1=log_ratio1.sort_values(ascending=False).head(10).index.values\n",
    "geneCount_open.loc[top10_indext1, \"Gene_ids\"]"
   ]
  },
  {
   "cell_type": "code",
   "execution_count": 33,
   "metadata": {},
   "outputs": [],
   "source": [
    "### Can we conclude that these genes are the Top10 overexpressed genes in the \n",
    "### the Treatment samples?"
   ]
  },
  {
   "cell_type": "markdown",
   "metadata": {},
   "source": [
    "# Exercices [30 pts]\n",
    "Once you've completed the next sections, export your Notebook in HTML and submit it to StudiUM. Make sure that your results and answers to the questions are visible and clear."
   ]
  },
  {
   "cell_type": "markdown",
   "metadata": {},
   "source": [
    "## Calculate the log2 FC for each pair of Control-Treatment [5 pts]"
   ]
  },
  {
   "cell_type": "code",
   "execution_count": 34,
   "metadata": {},
   "outputs": [],
   "source": [
    "import numpy as np"
   ]
  },
  {
   "cell_type": "code",
   "execution_count": 36,
   "metadata": {
    "collapsed": true,
    "jupyter": {
     "outputs_hidden": true
    },
    "tags": []
   },
   "outputs": [
    {
     "name": "stdout",
     "output_type": "stream",
     "text": [
      "0        0.000000\n",
      "1        1.000000\n",
      "2             NaN\n",
      "3             NaN\n",
      "4             NaN\n",
      "           ...   \n",
      "60670    0.861244\n",
      "60671         NaN\n",
      "60672         NaN\n",
      "60673         NaN\n",
      "60674         NaN\n",
      "Length: 60675, dtype: float64\n",
      "0            NaN\n",
      "1            NaN\n",
      "2            NaN\n",
      "3            NaN\n",
      "4            NaN\n",
      "          ...   \n",
      "60670    0.63745\n",
      "60671        NaN\n",
      "60672        NaN\n",
      "60673        NaN\n",
      "60674        NaN\n",
      "Length: 60675, dtype: float64\n",
      "0             NaN\n",
      "1             inf\n",
      "2             NaN\n",
      "3             NaN\n",
      "4             NaN\n",
      "           ...   \n",
      "60670    0.803509\n",
      "60671         NaN\n",
      "60672         NaN\n",
      "60673         NaN\n",
      "60674         NaN\n",
      "Length: 60675, dtype: float64\n",
      "0        3.459432\n",
      "1        0.000000\n",
      "2        0.000000\n",
      "3        0.000000\n",
      "4        0.000000\n",
      "           ...   \n",
      "60670    0.215395\n",
      "60671    0.000000\n",
      "60672    0.000000\n",
      "60673    0.000000\n",
      "60674    0.000000\n",
      "Length: 60675, dtype: float64\n",
      "0        0.000000\n",
      "1        0.000000\n",
      "2        0.000000\n",
      "3        0.000000\n",
      "4        0.000000\n",
      "           ...   \n",
      "60670    0.649289\n",
      "60671    0.000000\n",
      "60672    0.000000\n",
      "60673    0.000000\n",
      "60674    0.000000\n",
      "Length: 60675, dtype: float64\n",
      "0        0.000000\n",
      "1       -3.459432\n",
      "2        0.000000\n",
      "3        0.000000\n",
      "4        0.000000\n",
      "           ...   \n",
      "60670    0.315491\n",
      "60671    0.000000\n",
      "60672    0.000000\n",
      "60673    0.000000\n",
      "60674    0.000000\n",
      "Length: 60675, dtype: float64\n"
     ]
    }
   ],
   "source": [
    "### Let's considere all of our samples.\n",
    "### We want to pair each Treatment - Control samples and calculate their log2 FC \n",
    "### with respect to the Treatment.\n",
    "ratio1 = geneCount_open['Controle1'] / geneCount_open['Treatment1']\n",
    "print(ratio1)\n",
    "ratio2 = geneCount_open['Controle2'] / geneCount_open['Treatment2']\n",
    "print(ratio2)\n",
    "ratio3 = geneCount_open['Controle3'] / geneCount_open['Treatment3']\n",
    "print(ratio3)\n",
    "\n",
    "log_ratio1 = np.log2(geneCount_open['Treatment1'] + 0.1) - np.log2(geneCount_open['Controle1'] + 0.1)\n",
    "print(log_ratio1)\n",
    "log_ratio2 = np.log2(geneCount_open['Treatment2'] + 0.1) - np.log2(geneCount_open['Controle2'] + 0.1)\n",
    "print(log_ratio2)\n",
    "log_ratio3 = np.log2(geneCount_open['Treatment3'] + 0.1) - np.log2(geneCount_open['Controle3'] + 0.1)\n",
    "print(log_ratio3)"
   ]
  },
  {
   "cell_type": "markdown",
   "metadata": {
    "tags": []
   },
   "source": [
    "## Calculate the average log2 FC of each gene [10 pts]"
   ]
  },
  {
   "cell_type": "code",
   "execution_count": 37,
   "metadata": {},
   "outputs": [
    {
     "data": {
      "text/html": [
       "<div>\n",
       "<style scoped>\n",
       "    .dataframe tbody tr th:only-of-type {\n",
       "        vertical-align: middle;\n",
       "    }\n",
       "\n",
       "    .dataframe tbody tr th {\n",
       "        vertical-align: top;\n",
       "    }\n",
       "\n",
       "    .dataframe thead th {\n",
       "        text-align: right;\n",
       "    }\n",
       "</style>\n",
       "<table border=\"1\" class=\"dataframe\">\n",
       "  <thead>\n",
       "    <tr style=\"text-align: right;\">\n",
       "      <th></th>\n",
       "      <th>log_ratio1</th>\n",
       "      <th>log_ratio2</th>\n",
       "      <th>log_ratio3</th>\n",
       "    </tr>\n",
       "  </thead>\n",
       "  <tbody>\n",
       "    <tr>\n",
       "      <th>0</th>\n",
       "      <td>3.459432</td>\n",
       "      <td>0.000000</td>\n",
       "      <td>0.000000</td>\n",
       "    </tr>\n",
       "    <tr>\n",
       "      <th>1</th>\n",
       "      <td>0.000000</td>\n",
       "      <td>0.000000</td>\n",
       "      <td>-3.459432</td>\n",
       "    </tr>\n",
       "    <tr>\n",
       "      <th>2</th>\n",
       "      <td>0.000000</td>\n",
       "      <td>0.000000</td>\n",
       "      <td>0.000000</td>\n",
       "    </tr>\n",
       "    <tr>\n",
       "      <th>3</th>\n",
       "      <td>0.000000</td>\n",
       "      <td>0.000000</td>\n",
       "      <td>0.000000</td>\n",
       "    </tr>\n",
       "    <tr>\n",
       "      <th>4</th>\n",
       "      <td>0.000000</td>\n",
       "      <td>0.000000</td>\n",
       "      <td>0.000000</td>\n",
       "    </tr>\n",
       "    <tr>\n",
       "      <th>...</th>\n",
       "      <td>...</td>\n",
       "      <td>...</td>\n",
       "      <td>...</td>\n",
       "    </tr>\n",
       "    <tr>\n",
       "      <th>60670</th>\n",
       "      <td>0.215395</td>\n",
       "      <td>0.649289</td>\n",
       "      <td>0.315491</td>\n",
       "    </tr>\n",
       "    <tr>\n",
       "      <th>60671</th>\n",
       "      <td>0.000000</td>\n",
       "      <td>0.000000</td>\n",
       "      <td>0.000000</td>\n",
       "    </tr>\n",
       "    <tr>\n",
       "      <th>60672</th>\n",
       "      <td>0.000000</td>\n",
       "      <td>0.000000</td>\n",
       "      <td>0.000000</td>\n",
       "    </tr>\n",
       "    <tr>\n",
       "      <th>60673</th>\n",
       "      <td>0.000000</td>\n",
       "      <td>0.000000</td>\n",
       "      <td>0.000000</td>\n",
       "    </tr>\n",
       "    <tr>\n",
       "      <th>60674</th>\n",
       "      <td>0.000000</td>\n",
       "      <td>0.000000</td>\n",
       "      <td>0.000000</td>\n",
       "    </tr>\n",
       "  </tbody>\n",
       "</table>\n",
       "<p>60675 rows × 3 columns</p>\n",
       "</div>"
      ],
      "text/plain": [
       "       log_ratio1  log_ratio2  log_ratio3\n",
       "0        3.459432    0.000000    0.000000\n",
       "1        0.000000    0.000000   -3.459432\n",
       "2        0.000000    0.000000    0.000000\n",
       "3        0.000000    0.000000    0.000000\n",
       "4        0.000000    0.000000    0.000000\n",
       "...           ...         ...         ...\n",
       "60670    0.215395    0.649289    0.315491\n",
       "60671    0.000000    0.000000    0.000000\n",
       "60672    0.000000    0.000000    0.000000\n",
       "60673    0.000000    0.000000    0.000000\n",
       "60674    0.000000    0.000000    0.000000\n",
       "\n",
       "[60675 rows x 3 columns]"
      ]
     },
     "execution_count": 37,
     "metadata": {},
     "output_type": "execute_result"
    }
   ],
   "source": [
    "### We now want to calculate the average log2 FC for each gene across \n",
    "### the different pairings.\n",
    "\n",
    "### Let's create a dataframe\n",
    "gene_ids = geneCount_open.index\n",
    "log2_fc_pairing = pd.DataFrame({\"log_ratio1\": log_ratio1, \"log_ratio2\": log_ratio2, \"log_ratio3\": log_ratio3})\n",
    "log2_fc_pairing"
   ]
  },
  {
   "cell_type": "code",
   "execution_count": 38,
   "metadata": {},
   "outputs": [
    {
     "data": {
      "text/plain": [
       "0        1.153144\n",
       "1       -1.153144\n",
       "2        0.000000\n",
       "3        0.000000\n",
       "4        0.000000\n",
       "           ...   \n",
       "60670    0.393391\n",
       "60671    0.000000\n",
       "60672    0.000000\n",
       "60673    0.000000\n",
       "60674    0.000000\n",
       "Length: 60675, dtype: float64"
      ]
     },
     "execution_count": 38,
     "metadata": {},
     "output_type": "execute_result"
    }
   ],
   "source": [
    "average_log2_ratios = log2_fc_pairing.mean(axis=1)\n",
    "average_log2_ratios"
   ]
  },
  {
   "cell_type": "code",
   "execution_count": 47,
   "metadata": {},
   "outputs": [
    {
     "data": {
      "image/png": "[encoded data removed]",
      "text/plain": [
       "<Figure size 400x200 with 1 Axes>"
      ]
     },
     "metadata": {},
     "output_type": "display_data"
    }
   ],
   "source": [
    "### Plot the log2 FC distribution\n",
    "sns.set(rc={'figure.figsize':(4, 2)})\n",
    "sns.set_theme(context=\"notebook\", style=\"white\")\n",
    "sns.histplot(data=log2_fc_pairing, x='log_ratio1', bins=20, label='log_ratio1')\n",
    "plt.title('Distribution des log2 FC')\n",
    "sns.despine()"
   ]
  },
  {
   "cell_type": "code",
   "execution_count": 44,
   "metadata": {},
   "outputs": [
    {
     "data": {
      "image/png": "[encoded data removed]",
      "text/plain": [
       "<Figure size 400x200 with 1 Axes>"
      ]
     },
     "metadata": {},
     "output_type": "display_data"
    }
   ],
   "source": [
    "sns.set(rc={'figure.figsize':(4, 2)})\n",
    "sns.set_theme(context=\"notebook\", style=\"white\")\n",
    "sns.histplot(data=log2_fc_pairing, x='log_ratio2', bins=20, label='log_ratio2')\n",
    "plt.title('Distribution des log2 FC')\n",
    "sns.despine()"
   ]
  },
  {
   "cell_type": "code",
   "execution_count": 45,
   "metadata": {},
   "outputs": [
    {
     "data": {
      "image/png": "[encoded data removed]",
      "text/plain": [
       "<Figure size 400x200 with 1 Axes>"
      ]
     },
     "metadata": {},
     "output_type": "display_data"
    }
   ],
   "source": [
    "sns.set(rc={'figure.figsize':(4, 2)})\n",
    "sns.set_theme(context=\"notebook\", style=\"white\")\n",
    "sns.histplot(data=log2_fc_pairing, x='log_ratio3', bins=20, label='log_ratio3')\n",
    "plt.title('Distribution des log2 FC')\n",
    "sns.despine()"
   ]
  },
  {
   "cell_type": "markdown",
   "metadata": {},
   "source": [
    "## Identify the Top10 over expressed genes in Treatment [10 pts]"
   ]
  },
  {
   "cell_type": "code",
   "execution_count": 48,
   "metadata": {},
   "outputs": [
    {
     "data": {
      "text/plain": [
       "55567    ENSG00000213253\n",
       "52218    ENSG00000265091\n",
       "10110    ENSG00000227337\n",
       "31966    ENSG00000180176\n",
       "27308    ENSG00000136574\n",
       "15566    ENSG00000164362\n",
       "7693     ENSG00000230993\n",
       "7994     ENSG00000233045\n",
       "24035    ENSG00000223657\n",
       "36564    ENSG00000151224\n",
       "Name: Gene_ids, dtype: object"
      ]
     },
     "execution_count": 48,
     "metadata": {},
     "output_type": "execute_result"
    }
   ],
   "source": [
    "### What are the Top10 over expressed genes in the Treatment?\n",
    "### Do we get the same Top10?\n",
    "geneCount_open.loc[log_ratio1 > 0,\"Gene_ids\"]\n",
    "top10_index1=log_ratio1.sort_values(ascending=False).head(10).index.values\n",
    "geneCount_open.loc[top10_index1, \"Gene_ids\"]"
   ]
  },
  {
   "cell_type": "code",
   "execution_count": 49,
   "metadata": {},
   "outputs": [
    {
     "data": {
      "text/plain": [
       "24781    ENSG00000126010\n",
       "27531    ENSG00000261026\n",
       "5013     ENSG00000234975\n",
       "20066    ENSG00000213309\n",
       "31124    ENSG00000228053\n",
       "45165    ENSG00000259500\n",
       "27305    ENSG00000269954\n",
       "36564    ENSG00000151224\n",
       "8720     ENSG00000236695\n",
       "39670    ENSG00000258846\n",
       "Name: Gene_ids, dtype: object"
      ]
     },
     "execution_count": 49,
     "metadata": {},
     "output_type": "execute_result"
    }
   ],
   "source": [
    "geneCount_open.loc[log_ratio2 > 0,\"Gene_ids\"]\n",
    "top10_index2=log_ratio2.sort_values(ascending=False).head(10).index.values\n",
    "geneCount_open.loc[top10_index2, \"Gene_ids\"]"
   ]
  },
  {
   "cell_type": "code",
   "execution_count": 50,
   "metadata": {},
   "outputs": [
    {
     "data": {
      "text/plain": [
       "5013     ENSG00000234975\n",
       "52218    ENSG00000265091\n",
       "17021    ENSG00000270906\n",
       "32888    ENSG00000270060\n",
       "249      ENSG00000231868\n",
       "39098    ENSG00000244390\n",
       "25077    ENSG00000216866\n",
       "56090    ENSG00000240231\n",
       "32081    ENSG00000271602\n",
       "42985    ENSG00000213598\n",
       "Name: Gene_ids, dtype: object"
      ]
     },
     "execution_count": 50,
     "metadata": {},
     "output_type": "execute_result"
    }
   ],
   "source": [
    "geneCount_open.loc[log_ratio3 > 0,\"Gene_ids\"]\n",
    "top10_index3=log_ratio3.sort_values(ascending=False).head(10).index.values\n",
    "geneCount_open.loc[top10_index3, \"Gene_ids\"]"
   ]
  },
  {
   "cell_type": "markdown",
   "metadata": {},
   "source": [
    "## Analyse the methodology [5 pts]"
   ]
  },
  {
   "cell_type": "code",
   "execution_count": 51,
   "metadata": {},
   "outputs": [
    {
     "name": "stdout",
     "output_type": "stream",
     "text": [
      "Non, les Top 10 gènes les plus exprimés ne sont pas exactement les mêmes dans les trois traitements\n"
     ]
    }
   ],
   "source": [
    "### Do you find the same Top10?\n",
    "print(\"Non, les Top 10 gènes les plus exprimés ne sont pas exactement les mêmes dans les trois traitements\")"
   ]
  },
  {
   "cell_type": "code",
   "execution_count": 201,
   "metadata": {},
   "outputs": [
    {
     "name": "stdout",
     "output_type": "stream",
     "text": [
      "Non, ce n'est pas la meilleure approche pour une analyse DEG\n"
     ]
    }
   ],
   "source": [
    "### Put your critical spectacles on!\n",
    "### Is that the best approach to do a DEG analysis? \n",
    "### What could be done differently? Are we missing something?\n",
    "print(\"Non, ce n'est pas la meilleure approche pour une analyse DEG\")"
   ]
  },
  {
   "cell_type": "code",
   "execution_count": 52,
   "metadata": {},
   "outputs": [
    {
     "name": "stdout",
     "output_type": "stream",
     "text": [
      "On pourrait appliquer une correction pour les tests multiples,\n",
      "normaliser les données, et inclure des réplicats biologiques pour améliorer la précision de l'analyse DEG.\n"
     ]
    }
   ],
   "source": [
    "print(\"On pourrait appliquer une correction pour les tests multiples,\")\n",
    "print(\"normaliser les données, et inclure des réplicats biologiques pour améliorer la précision de l'analyse DEG.\")"
   ]
  },
  {
   "cell_type": "code",
   "execution_count": null,
   "metadata": {},
   "outputs": [],
   "source": []
  }
 ],
 "metadata": {
  "kernelspec": {
   "display_name": "Python (bioinfo)",
   "language": "python",
   "name": "bioinfo"
  },
  "language_info": {
   "codemirror_mode": {
    "name": "ipython",
    "version": 3
   },
   "file_extension": ".py",
   "mimetype": "text/x-python",
   "name": "python",
   "nbconvert_exporter": "python",
   "pygments_lexer": "ipython3",
   "version": "3.10.4"
  },
  "latex_envs": {
   "bibliofile": "biblio.bib",
   "cite_by": "apalike",
   "current_citInitial": 1,
   "eqLabelWithNumbers": true,
   "eqNumInitial": 0
  },
  "nav_menu": {},
  "toc": {
   "navigate_menu": true,
   "number_sections": true,
   "sideBar": true,
   "threshold": 6,
   "toc_cell": true,
   "toc_section_display": "block",
   "toc_window_display": false
  }
 },
 "nbformat": 4,
 "nbformat_minor": 4
}
