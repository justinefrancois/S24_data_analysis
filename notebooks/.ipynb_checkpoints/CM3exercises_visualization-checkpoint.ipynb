{
 "cells": [
  {
   "cell_type": "markdown",
   "metadata": {
    "tags": []
   },
   "source": [
    "# Data Analysis and Data Science\n",
    "## Be curious about the data \n",
    "\n",
    "By: FRANCOIS JUSTINE\n",
    "<br>For: BIM6065-65\n",
    "\n",
    "<hr style=\"border:1px solid black\"> </hr>\n"
   ]
  },
  {
   "cell_type": "markdown",
   "metadata": {},
   "source": [
    "**Student Name**: FRANCOIS Justine\n",
    "\n",
    "Complete the following exercises and submit your Notebook in a HTML format on StudiUM. You have until July 3rd, noon to hand-in your Notebook."
   ]
  },
  {
   "cell_type": "markdown",
   "metadata": {},
   "source": [
    "## Python Libraries\n",
    "\n",
    "Import the Pandas, and Seaborn"
   ]
  },
  {
   "cell_type": "code",
   "execution_count": 2,
   "metadata": {},
   "outputs": [],
   "source": [
    "import pandas as pd\n",
    "import seaborn as sns"
   ]
  },
  {
   "cell_type": "code",
   "execution_count": 3,
   "metadata": {},
   "outputs": [],
   "source": [
    "sns.set(rc={'figure.figsize':(9, 4)})\n",
    "sns.set_theme(context=\"notebook\", style=\"white\", palette=\"Set2\")"
   ]
  },
  {
   "cell_type": "markdown",
   "metadata": {},
   "source": [
    "## Get the data [8 pts]\n",
    "\n",
    "Download the <code>breast_cancer_metametric.tsv</code> dataset from StudiUM and upload it to the Jupyter IRIC server. Using <code>pandas</code>, read the file and save its content into a variable as a dataframe."
   ]
  },
  {
   "cell_type": "code",
   "execution_count": 4,
   "metadata": {},
   "outputs": [],
   "source": [
    "## Define variable with file name\n",
    "fn = \"breast_cancer_metametric.tsv\""
   ]
  },
  {
   "cell_type": "code",
   "execution_count": null,
   "metadata": {},
   "outputs": [
    {
     "data": {
      "text/html": [
       "<div>\n",
       "<style scoped>\n",
       "    .dataframe tbody tr th:only-of-type {\n",
       "        vertical-align: middle;\n",
       "    }\n",
       "\n",
       "    .dataframe tbody tr th {\n",
       "        vertical-align: top;\n",
       "    }\n",
       "\n",
       "    .dataframe thead th {\n",
       "        text-align: right;\n",
       "    }\n",
       "</style>\n",
       "<table border=\"1\" class=\"dataframe\">\n",
       "  <thead>\n",
       "    <tr style=\"text-align: right;\">\n",
       "      <th></th>\n",
       "      <th>CHEMOTHERAPY</th>\n",
       "      <th>HORMONE_THERAPY</th>\n",
       "      <th>RADIO_THERAPY</th>\n",
       "      <th>BREAST_SURGERY</th>\n",
       "      <th>CELLULARITY</th>\n",
       "      <th>VITAL_STATUS</th>\n",
       "      <th>GRADE</th>\n",
       "      <th>COHORT</th>\n",
       "      <th>MUTATION_COUNT</th>\n",
       "      <th>NPI</th>\n",
       "      <th>OS_MONTHS</th>\n",
       "      <th>TUMOR_SIZE</th>\n",
       "      <th>TUMOR_STAGE</th>\n",
       "      <th>AGE_GROUP</th>\n",
       "    </tr>\n",
       "  </thead>\n",
       "  <tbody>\n",
       "    <tr>\n",
       "      <th>0</th>\n",
       "      <td>1.0</td>\n",
       "      <td>1.0</td>\n",
       "      <td>1.0</td>\n",
       "      <td>0.0</td>\n",
       "      <td>2.0</td>\n",
       "      <td>0.0</td>\n",
       "      <td>3.0</td>\n",
       "      <td>1.0</td>\n",
       "      <td>2.0</td>\n",
       "      <td>4.038</td>\n",
       "      <td>174.266667</td>\n",
       "      <td>19.0</td>\n",
       "      <td>1.0</td>\n",
       "      <td>30.0</td>\n",
       "    </tr>\n",
       "    <tr>\n",
       "      <th>1</th>\n",
       "      <td>1.0</td>\n",
       "      <td>1.0</td>\n",
       "      <td>1.0</td>\n",
       "      <td>0.0</td>\n",
       "      <td>1.0</td>\n",
       "      <td>2.0</td>\n",
       "      <td>3.0</td>\n",
       "      <td>1.0</td>\n",
       "      <td>4.0</td>\n",
       "      <td>6.046</td>\n",
       "      <td>48.600000</td>\n",
       "      <td>23.0</td>\n",
       "      <td>2.0</td>\n",
       "      <td>30.0</td>\n",
       "    </tr>\n",
       "    <tr>\n",
       "      <th>2</th>\n",
       "      <td>1.0</td>\n",
       "      <td>1.0</td>\n",
       "      <td>1.0</td>\n",
       "      <td>0.0</td>\n",
       "      <td>0.0</td>\n",
       "      <td>1.0</td>\n",
       "      <td>3.0</td>\n",
       "      <td>1.0</td>\n",
       "      <td>3.0</td>\n",
       "      <td>5.104</td>\n",
       "      <td>79.333333</td>\n",
       "      <td>52.0</td>\n",
       "      <td>3.0</td>\n",
       "      <td>80.0</td>\n",
       "    </tr>\n",
       "    <tr>\n",
       "      <th>3</th>\n",
       "      <td>0.0</td>\n",
       "      <td>1.0</td>\n",
       "      <td>0.0</td>\n",
       "      <td>0.0</td>\n",
       "      <td>2.0</td>\n",
       "      <td>0.0</td>\n",
       "      <td>2.0</td>\n",
       "      <td>3.0</td>\n",
       "      <td>5.0</td>\n",
       "      <td>3.036</td>\n",
       "      <td>224.600000</td>\n",
       "      <td>18.0</td>\n",
       "      <td>1.0</td>\n",
       "      <td>40.0</td>\n",
       "    </tr>\n",
       "    <tr>\n",
       "      <th>4</th>\n",
       "      <td>0.0</td>\n",
       "      <td>1.0</td>\n",
       "      <td>1.0</td>\n",
       "      <td>1.0</td>\n",
       "      <td>2.0</td>\n",
       "      <td>1.0</td>\n",
       "      <td>3.0</td>\n",
       "      <td>1.0</td>\n",
       "      <td>2.0</td>\n",
       "      <td>4.040</td>\n",
       "      <td>147.366667</td>\n",
       "      <td>20.0</td>\n",
       "      <td>1.0</td>\n",
       "      <td>60.0</td>\n",
       "    </tr>\n",
       "    <tr>\n",
       "      <th>...</th>\n",
       "      <td>...</td>\n",
       "      <td>...</td>\n",
       "      <td>...</td>\n",
       "      <td>...</td>\n",
       "      <td>...</td>\n",
       "      <td>...</td>\n",
       "      <td>...</td>\n",
       "      <td>...</td>\n",
       "      <td>...</td>\n",
       "      <td>...</td>\n",
       "      <td>...</td>\n",
       "      <td>...</td>\n",
       "      <td>...</td>\n",
       "      <td>...</td>\n",
       "    </tr>\n",
       "    <tr>\n",
       "      <th>1099</th>\n",
       "      <td>0.0</td>\n",
       "      <td>1.0</td>\n",
       "      <td>1.0</td>\n",
       "      <td>1.0</td>\n",
       "      <td>2.0</td>\n",
       "      <td>1.0</td>\n",
       "      <td>3.0</td>\n",
       "      <td>3.0</td>\n",
       "      <td>7.0</td>\n",
       "      <td>4.036</td>\n",
       "      <td>212.200000</td>\n",
       "      <td>18.0</td>\n",
       "      <td>1.0</td>\n",
       "      <td>60.0</td>\n",
       "    </tr>\n",
       "    <tr>\n",
       "      <th>1100</th>\n",
       "      <td>0.0</td>\n",
       "      <td>0.0</td>\n",
       "      <td>0.0</td>\n",
       "      <td>0.0</td>\n",
       "      <td>1.0</td>\n",
       "      <td>2.0</td>\n",
       "      <td>3.0</td>\n",
       "      <td>3.0</td>\n",
       "      <td>15.0</td>\n",
       "      <td>4.050</td>\n",
       "      <td>51.966667</td>\n",
       "      <td>25.0</td>\n",
       "      <td>2.0</td>\n",
       "      <td>60.0</td>\n",
       "    </tr>\n",
       "    <tr>\n",
       "      <th>1101</th>\n",
       "      <td>0.0</td>\n",
       "      <td>1.0</td>\n",
       "      <td>1.0</td>\n",
       "      <td>0.0</td>\n",
       "      <td>2.0</td>\n",
       "      <td>2.0</td>\n",
       "      <td>3.0</td>\n",
       "      <td>3.0</td>\n",
       "      <td>8.0</td>\n",
       "      <td>6.060</td>\n",
       "      <td>80.733333</td>\n",
       "      <td>30.0</td>\n",
       "      <td>3.0</td>\n",
       "      <td>60.0</td>\n",
       "    </tr>\n",
       "    <tr>\n",
       "      <th>1102</th>\n",
       "      <td>0.0</td>\n",
       "      <td>1.0</td>\n",
       "      <td>1.0</td>\n",
       "      <td>1.0</td>\n",
       "      <td>2.0</td>\n",
       "      <td>2.0</td>\n",
       "      <td>2.0</td>\n",
       "      <td>3.0</td>\n",
       "      <td>8.0</td>\n",
       "      <td>3.050</td>\n",
       "      <td>87.733333</td>\n",
       "      <td>25.0</td>\n",
       "      <td>2.0</td>\n",
       "      <td>60.0</td>\n",
       "    </tr>\n",
       "    <tr>\n",
       "      <th>1103</th>\n",
       "      <td>0.0</td>\n",
       "      <td>0.0</td>\n",
       "      <td>1.0</td>\n",
       "      <td>1.0</td>\n",
       "      <td>2.0</td>\n",
       "      <td>0.0</td>\n",
       "      <td>2.0</td>\n",
       "      <td>3.0</td>\n",
       "      <td>4.0</td>\n",
       "      <td>3.024</td>\n",
       "      <td>175.333333</td>\n",
       "      <td>12.0</td>\n",
       "      <td>1.0</td>\n",
       "      <td>40.0</td>\n",
       "    </tr>\n",
       "  </tbody>\n",
       "</table>\n",
       "<p>1104 rows × 14 columns</p>\n",
       "</div>"
      ],
      "text/plain": [
       "      CHEMOTHERAPY  HORMONE_THERAPY  RADIO_THERAPY  BREAST_SURGERY  \\\n",
       "0              1.0              1.0            1.0             0.0   \n",
       "1              1.0              1.0            1.0             0.0   \n",
       "2              1.0              1.0            1.0             0.0   \n",
       "3              0.0              1.0            0.0             0.0   \n",
       "4              0.0              1.0            1.0             1.0   \n",
       "...            ...              ...            ...             ...   \n",
       "1099           0.0              1.0            1.0             1.0   \n",
       "1100           0.0              0.0            0.0             0.0   \n",
       "1101           0.0              1.0            1.0             0.0   \n",
       "1102           0.0              1.0            1.0             1.0   \n",
       "1103           0.0              0.0            1.0             1.0   \n",
       "\n",
       "      CELLULARITY  VITAL_STATUS  GRADE  COHORT  MUTATION_COUNT    NPI  \\\n",
       "0             2.0           0.0    3.0     1.0             2.0  4.038   \n",
       "1             1.0           2.0    3.0     1.0             4.0  6.046   \n",
       "2             0.0           1.0    3.0     1.0             3.0  5.104   \n",
       "3             2.0           0.0    2.0     3.0             5.0  3.036   \n",
       "4             2.0           1.0    3.0     1.0             2.0  4.040   \n",
       "...           ...           ...    ...     ...             ...    ...   \n",
       "1099          2.0           1.0    3.0     3.0             7.0  4.036   \n",
       "1100          1.0           2.0    3.0     3.0            15.0  4.050   \n",
       "1101          2.0           2.0    3.0     3.0             8.0  6.060   \n",
       "1102          2.0           2.0    2.0     3.0             8.0  3.050   \n",
       "1103          2.0           0.0    2.0     3.0             4.0  3.024   \n",
       "\n",
       "       OS_MONTHS  TUMOR_SIZE  TUMOR_STAGE  AGE_GROUP  \n",
       "0     174.266667        19.0          1.0       30.0  \n",
       "1      48.600000        23.0          2.0       30.0  \n",
       "2      79.333333        52.0          3.0       80.0  \n",
       "3     224.600000        18.0          1.0       40.0  \n",
       "4     147.366667        20.0          1.0       60.0  \n",
       "...          ...         ...          ...        ...  \n",
       "1099  212.200000        18.0          1.0       60.0  \n",
       "1100   51.966667        25.0          2.0       60.0  \n",
       "1101   80.733333        30.0          3.0       60.0  \n",
       "1102   87.733333        25.0          2.0       60.0  \n",
       "1103  175.333333        12.0          1.0       40.0  \n",
       "\n",
       "[1104 rows x 14 columns]"
      ]
     },
     "execution_count": 5,
     "metadata": {},
     "output_type": "execute_result"
    }
   ],
   "source": [
    "## Read ans save data into variable as a dataframe\n",
    "data = pd.read_csv(\"breast_cancer_metametric.tsv\", delimiter=\"\\t\")\n",
    "data"
   ]
  },
  {
   "cell_type": "markdown",
   "metadata": {},
   "source": [
    "## Explore the data [12 pts]\n",
    "\n",
    "Using various <code>pandas</code> functions, answer the following questions. **Make sure you answers are explicitely outputed by your code.**"
   ]
  },
  {
   "cell_type": "markdown",
   "metadata": {},
   "source": [
    "1. How many variables and samples are there in your dataset?"
   ]
  },
  {
   "cell_type": "code",
   "execution_count": 7,
   "metadata": {},
   "outputs": [
    {
     "name": "stdout",
     "output_type": "stream",
     "text": [
      "1104  samples a.k.a patients\n",
      "14  variables\n",
      "donc on a 1104 patients et 14 variables pour chaque patient.\n"
     ]
    }
   ],
   "source": [
    "#data.shape\n",
    "print( len(data),\" samples a.k.a patients\")\n",
    "print( len(data.columns),\" variables\")\n",
    "print(\"donc on a 1104 patients et 14 variables pour chaque patient.\")"
   ]
  },
  {
   "cell_type": "markdown",
   "metadata": {},
   "source": [
    "***\n",
    "2. How many age groups are considered?"
   ]
  },
  {
   "cell_type": "code",
   "execution_count": 6,
   "metadata": {},
   "outputs": [
    {
     "name": "stdout",
     "output_type": "stream",
     "text": [
      "6  age groups\n",
      "age groups [30. 80. 40. 60. 50. nan 90.]\n",
      "il y a 6 groupes d'âge dans cette étude\n"
     ]
    }
   ],
   "source": [
    "print(len(data.groupby(\"AGE_GROUP\")), \" age groups\")\n",
    "print(\"age groups\",data.loc[:,\"AGE_GROUP\"].unique())\n",
    "print(\"il y a 6 groupes d'âge dans cette étude\")"
   ]
  },
  {
   "cell_type": "markdown",
   "metadata": {},
   "source": [
    "***\n",
    "3. What is the mean overall survival (in month)?"
   ]
  },
  {
   "cell_type": "code",
   "execution_count": 16,
   "metadata": {},
   "outputs": [
    {
     "name": "stdout",
     "output_type": "stream",
     "text": [
      "126.10326086947464  months\n",
      "La moyenne de la suivie en mois est de 126,10326086947464.\n"
     ]
    }
   ],
   "source": [
    "print(data.OS_MONTHS.mean(axis=0), \" months\")\n",
    "print(\"La moyenne de la suivie en mois est de 126,10326086947464.\")"
   ]
  },
  {
   "cell_type": "markdown",
   "metadata": {},
   "source": [
    "***\n",
    "4. What is the highest mutation count?"
   ]
  },
  {
   "cell_type": "code",
   "execution_count": 15,
   "metadata": {},
   "outputs": [
    {
     "name": "stdout",
     "output_type": "stream",
     "text": [
      "46.0  mutations\n",
      "Le plus grand nombre de mutations qui a été collecté est : 46,0.\n"
     ]
    }
   ],
   "source": [
    "print(data.MUTATION_COUNT.max(axis=0), \" mutations\")\n",
    "print(\"Le plus grand nombre de mutations qui a été collecté est : 46,0.\") "
   ]
  },
  {
   "cell_type": "markdown",
   "metadata": {},
   "source": [
    "***\n",
    "5. How large is the smallest tumor?"
   ]
  },
  {
   "cell_type": "code",
   "execution_count": 14,
   "metadata": {},
   "outputs": [
    {
     "name": "stdout",
     "output_type": "stream",
     "text": [
      "1.0  cm\n",
      "La plus petite tumeur est de 1,0cm.\n"
     ]
    }
   ],
   "source": [
    "print(data.TUMOR_SIZE.min(axis=0), \" cm\")\n",
    "print(\"La plus petite tumeur est de 1,0cm.\")"
   ]
  },
  {
   "cell_type": "markdown",
   "metadata": {},
   "source": [
    "***\n",
    "6. What are the grade considered in the dataset?"
   ]
  },
  {
   "cell_type": "code",
   "execution_count": 13,
   "metadata": {},
   "outputs": [
    {
     "name": "stdout",
     "output_type": "stream",
     "text": [
      "Grades: [3. 2. 1.]\n",
      "Les différents grades considérés sont 1, 2 et 3.\n"
     ]
    }
   ],
   "source": [
    "print(\"Grades:\",data.loc[:,\"GRADE\"].unique())\n",
    "print(\"Les différents grades considérés sont 1, 2 et 3.\")"
   ]
  },
  {
   "cell_type": "markdown",
   "metadata": {},
   "source": [
    "***\n",
    "7. What is the median Nottingham Prognostic Index (NPI)?"
   ]
  },
  {
   "cell_type": "code",
   "execution_count": 12,
   "metadata": {},
   "outputs": [
    {
     "name": "stdout",
     "output_type": "stream",
     "text": [
      "Median NPI:  4.046\n",
      "La médiane de cette étude pour NPI est de 4,046.\n"
     ]
    }
   ],
   "source": [
    "print(\"Median NPI: \",data.NPI.median(axis=0))\n",
    "print(\"La médiane de cette étude pour NPI est de 4,046.\")"
   ]
  },
  {
   "cell_type": "markdown",
   "metadata": {},
   "source": [
    "***\n",
    "8. a) What are the possible values for CHEMOTHERAPY, HORMONE_THERAPY, RADIO_THERAPY, BREAST_SURGERY? <br>b) What do you think these values represent? "
   ]
  },
  {
   "cell_type": "code",
   "execution_count": 11,
   "metadata": {},
   "outputs": [
    {
     "name": "stdout",
     "output_type": "stream",
     "text": [
      "chemotherapy [1. 0.]\n"
     ]
    }
   ],
   "source": [
    "print(\"chemotherapy\",data.loc[:,\"CHEMOTHERAPY\"].unique())"
   ]
  },
  {
   "cell_type": "code",
   "execution_count": 71,
   "metadata": {},
   "outputs": [
    {
     "name": "stdout",
     "output_type": "stream",
     "text": [
      "hormone_therapy [1. 0.]\n"
     ]
    }
   ],
   "source": [
    "print(\"hormone_therapy\",data.loc[:,\"HORMONE_THERAPY\"].unique())"
   ]
  },
  {
   "cell_type": "code",
   "execution_count": 72,
   "metadata": {},
   "outputs": [
    {
     "name": "stdout",
     "output_type": "stream",
     "text": [
      "radio_therapy [1. 0.]\n"
     ]
    }
   ],
   "source": [
    "print(\"radio_therapy\",data.loc[:,\"RADIO_THERAPY\"].unique())"
   ]
  },
  {
   "cell_type": "code",
   "execution_count": 73,
   "metadata": {},
   "outputs": [
    {
     "name": "stdout",
     "output_type": "stream",
     "text": [
      "breast_surgery [0. 1.]\n"
     ]
    }
   ],
   "source": [
    "print(\"breast_surgery\",data.loc[:,\"BREAST_SURGERY\"].unique())"
   ]
  },
  {
   "cell_type": "code",
   "execution_count": 46,
   "metadata": {},
   "outputs": [
    {
     "name": "stdout",
     "output_type": "stream",
     "text": [
      "Pour chaque variable de traitement (chimiothérapie, hormonothérapie, radiothérapie, chirurgie mammaire), il n'y a que deux possibilités : 1 pour 'oui', indiquant que le patient a reçu le traitement, et 0 pour 'non', indiquant qu'il n'a pas reçu le traitement.\n",
      "Nombre de patients ayant reçu chaque traitement :\n",
      "- Chimiothérapie : 244\n",
      "- Hormonothérapie : 677\n",
      "- Radiothérapie : 734\n",
      "- Chirurgie mammaire : 468\n"
     ]
    }
   ],
   "source": [
    "print(\"Pour chaque variable de traitement (chimiothérapie, hormonothérapie, radiothérapie, chirurgie mammaire), il n'y a que deux possibilités : 1 pour 'oui', indiquant que le patient a reçu le traitement, et 0 pour 'non', indiquant qu'il n'a pas reçu le traitement.\")\n",
    "\n",
    "print(\"Nombre de patients ayant reçu chaque traitement :\")\n",
    "print(\"- Chimiothérapie :\", sum(data.CHEMOTHERAPY == 1))\n",
    "print(\"- Hormonothérapie :\", sum(data.HORMONE_THERAPY == 1))\n",
    "print(\"- Radiothérapie :\", sum(data.RADIO_THERAPY == 1))\n",
    "print(\"- Chirurgie mammaire :\", sum(data.BREAST_SURGERY == 1))"
   ]
  },
  {
   "cell_type": "markdown",
   "metadata": {},
   "source": [
    "***\n",
    "10. How many patients in the dataset have had breast surgery?"
   ]
  },
  {
   "cell_type": "code",
   "execution_count": 8,
   "metadata": {},
   "outputs": [
    {
     "name": "stdout",
     "output_type": "stream",
     "text": [
      "0       False\n",
      "1       False\n",
      "2       False\n",
      "3       False\n",
      "4        True\n",
      "        ...  \n",
      "1099     True\n",
      "1100    False\n",
      "1101    False\n",
      "1102     True\n",
      "1103     True\n",
      "Name: BREAST_SURGERY, Length: 1104, dtype: bool patients have had breast surgery\n",
      "468 patients have had breast surgery\n",
      "ici, 468 patients ont reçu une chirurgie mammaire.\n"
     ]
    }
   ],
   "source": [
    "print(data.BREAST_SURGERY==1, \"patients have had breast surgery\")\n",
    "print(sum(data.BREAST_SURGERY==1), \"patients have had breast surgery\")\n",
    "print(\"ici, 468 patients ont reçu une chirurgie mammaire.\")"
   ]
  },
  {
   "cell_type": "markdown",
   "metadata": {},
   "source": [
    "## Visualize the data [30 pts pts]"
   ]
  },
  {
   "cell_type": "markdown",
   "metadata": {},
   "source": [
    "You are first interested in the distribution of the overall survival of the various samples. You hypothesize that the distribution differ from one tumor stage to another.\n",
    "\n",
    "Design a figure that will help verify your hypothesis. **Make sure your figure is readable and displayed after your code.**\n",
    "\n",
    "Briefly intepret your figure.\n",
    "\n",
    "Vous vous intéressez d'abord à la distribution de la survie globale des différents échantillons. Vous émettez l'hypothèse que la distribution diffère d'un stade tumoral à l'autre.\n",
    "\n",
    "Concevez un graphique qui vous aidera à vérifier votre hypothèse. Assurez-vous que votre graphique soit lisible et affiché après votre code.\n",
    "\n",
    "Interprétez brièvement votre graphique."
   ]
  },
  {
   "cell_type": "code",
   "execution_count": 60,
   "metadata": {},
   "outputs": [
    {
     "data": {
      "image/png": "[encoded data removed]",
      "text/plain": [
       "<Figure size 900x400 with 1 Axes>"
      ]
     },
     "metadata": {},
     "output_type": "display_data"
    }
   ],
   "source": [
    "### Figure\n",
    "sns.set(rc={'figure.figsize':(9, 4)})\n",
    "sns.set_theme(context=\"notebook\", style=\"white\", palette=\"Set2\")\n",
    "sns.histplot(data, x=\"OS_MONTHS\", bins=25)\n",
    "sns.despine()\n",
    "\n",
    "p = sns.histplot(data, x=\"OS_MONTHS\", bins=25, hue=\"TUMOR_STAGE\", multiple=\"stack\")\n",
    "p.set_title(\"Distribution de la Survie Globale en Fonction des Différents Stades Tumoraux\")\n",
    "sns.move_legend(p, \"upper left\", bbox_to_anchor=(1, 1), frameon=False)\n",
    "sns.despine()"
   ]
  },
  {
   "cell_type": "code",
   "execution_count": 17,
   "metadata": {},
   "outputs": [
    {
     "name": "stdout",
     "output_type": "stream",
     "text": [
      "Le graphique montre la distribution de la survie globale (en mois) pour les patients, en distinguant les différents stades tumoraux.\n",
      "On observe que les patients au stade tumoral 4 n'ont pas survécu au-delà de 137,5 mois, suggérant une survie globale limitée à ce stade.\n",
      "En comparaison, les stades tumoraux inférieurs présentent une distribution de survie globale plus étendue, avec certains patients survivant beaucoup plus longtemps.\n",
      "Ces observations soutiennent l'hypothèse selon laquelle la distribution de la survie globale diffère significativement entre les stades tumoraux, mettant en lumière l'importance du stade tumoral comme facteur pronostique dans le cancer du sein.\n",
      "Résumé des principales conclusions :\n",
      "- Le stade tumoral semble influencer de manière significative la survie globale des patients.\n",
      "- Les patients au stade tumoral 4 ont une survie globale limitée par rapport aux autres stades tumoraux observés.\n"
     ]
    }
   ],
   "source": [
    "### Interpretation\n",
    "\n",
    "print(\"Le graphique montre la distribution de la survie globale (en mois) pour les patients, en distinguant les différents stades tumoraux.\")\n",
    "print(\"On observe que les patients au stade tumoral 4 n'ont pas survécu au-delà de 137,5 mois, suggérant une survie globale limitée à ce stade.\")\n",
    "print(\"En comparaison, les stades tumoraux inférieurs présentent une distribution de survie globale plus étendue, avec certains patients survivant beaucoup plus longtemps.\")\n",
    "print(\"Ces observations soutiennent l'hypothèse selon laquelle la distribution de la survie globale diffère significativement entre les stades tumoraux, mettant en lumière l'importance du stade tumoral comme facteur pronostique dans le cancer du sein.\")\n",
    "\n",
    "print(\"Résumé des principales conclusions :\")\n",
    "print(\"- Le stade tumoral semble influencer de manière significative la survie globale des patients.\")\n",
    "print(\"- Les patients au stade tumoral 4 ont une survie globale limitée par rapport aux autres stades tumoraux observés.\")"
   ]
  },
  {
   "cell_type": "markdown",
   "metadata": {},
   "source": [
    "***\n",
    "You are now interested in the relationship between the overall survival and the other variables measured. Given your knowledge of the dataset, make an hypothesis that considered the overall survival.\n",
    "\n",
    "Explore the dataset and generate a least one figure that validate or invalidate your hypothesis. **Make sure your figure is readable and displayed after your code.**\n",
    "\n",
    "Briefly intepret your figure.\n",
    "\n",
    "Vous vous intéressez maintenant à la relation entre la survie globale et les autres variables mesurées. Étant donné votre connaissance du jeu de données, formulez une hypothèse concernant la survie globale.\n",
    "\n",
    "Explorez le jeu de données et générez au moins une figure qui valide ou invalide votre hypothèse. Assurez-vous que votre figure soit lisible et affichée après votre code.\n",
    "\n",
    "Interprétez brièvement votre figure."
   ]
  },
  {
   "cell_type": "code",
   "execution_count": 43,
   "metadata": {},
   "outputs": [
    {
     "name": "stdout",
     "output_type": "stream",
     "text": [
      "Je postule que le grade du cancer du sein affecte la survie globale des patients.\n",
      "Les grades plus élevés (Grade 3) devraient être associés à une survie plus courte par rapport\n",
      "aux grades inférieurs (Grade 1 et Grade 2).\n"
     ]
    }
   ],
   "source": [
    "### Hypothesis:\n",
    "print(\"Je postule que le grade du cancer du sein affecte la survie globale des patients.\")\n",
    "print(\"Les grades plus élevés (Grade 3) devraient être associés à une survie plus courte par rapport\")\n",
    "print(\"aux grades inférieurs (Grade 1 et Grade 2).\")"
   ]
  },
  {
   "cell_type": "code",
   "execution_count": 58,
   "metadata": {},
   "outputs": [
    {
     "data": {
      "image/png": "[encoded data removed]",
      "text/plain": [
       "<Figure size 900x400 with 1 Axes>"
      ]
     },
     "metadata": {},
     "output_type": "display_data"
    }
   ],
   "source": [
    "### Figure : \n",
    "\n",
    "sns.set(rc={'figure.figsize':(9, 4)})\n",
    "sns.set_theme(context=\"notebook\", style=\"white\", palette=\"Set2\")\n",
    "p = sns.histplot(data, x=\"OS_MONTHS\", bins=25, hue=\"GRADE\",multiple=\"stack\")\n",
    "p.set_title(\"Distribution de la Survie Globale en Fonction du grade du cancer\")\n",
    "sns.move_legend(p, \"upper left\", bbox_to_anchor=(1, 1), frameon=False)\n",
    "sns.despine()"
   ]
  },
  {
   "cell_type": "code",
   "execution_count": 40,
   "metadata": {},
   "outputs": [
    {
     "name": "stdout",
     "output_type": "stream",
     "text": [
      "Sachant que 'Grade' indique l'agressivité et la différenciation des cellules cancéreuses,\n",
      "nous pouvons observer à partir du graphique que la distribution de la survie globale varie significativement\n",
      "Le graphique montre comment la survie globale varie selon le grade du cancer.\n",
      "Les patients avec un grade élevé (Grade 3) tendent à avoir des survies plus courtes,\n",
      "suggérant une agressivité accrue et une survie potentiellement réduite comparée aux grades inférieurs (Grade 1 et 2).\n",
      "Ces résultats soulignent l'importance du grade du cancer dans l'évaluation du pronostic et du traitement des patients atteints de cancer du sein.\n"
     ]
    }
   ],
   "source": [
    "### Interpretation : \n",
    "print(\"Sachant que 'Grade' indique l'agressivité et la différenciation des cellules cancéreuses,\")\n",
    "print(\"nous pouvons observer à partir du graphique que la distribution de la survie globale varie significativement\")\n",
    "print(\"Le graphique montre comment la survie globale varie selon le grade du cancer.\")\n",
    "print(\"Les patients avec un grade élevé (Grade 3) tendent à avoir des survies plus courtes,\")\n",
    "print(\"suggérant une agressivité accrue et une survie potentiellement réduite comparée aux grades inférieurs (Grade 1 et 2).\")\n",
    "print(\"Ces résultats soulignent l'importance du grade du cancer dans l'évaluation du pronostic et du traitement des patients atteints de cancer du sein.\")"
   ]
  },
  {
   "cell_type": "code",
   "execution_count": null,
   "metadata": {},
   "outputs": [],
   "source": []
  }
 ],
 "metadata": {
  "kernelspec": {
   "display_name": "Python (bioinfo)",
   "language": "python",
   "name": "bioinfo"
  },
  "language_info": {
   "codemirror_mode": {
    "name": "ipython",
    "version": 3
   },
   "file_extension": ".py",
   "mimetype": "text/x-python",
   "name": "python",
   "nbconvert_exporter": "python",
   "pygments_lexer": "ipython3",
   "version": "3.10.4"
  }
 },
 "nbformat": 4,
 "nbformat_minor": 4
}
