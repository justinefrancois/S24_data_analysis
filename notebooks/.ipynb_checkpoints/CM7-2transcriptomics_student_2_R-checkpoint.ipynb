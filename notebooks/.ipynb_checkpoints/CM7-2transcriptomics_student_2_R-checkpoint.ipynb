{
 "cells": [
  {
   "cell_type": "markdown",
   "id": "04bcbce2-2a77-4257-bc18-d6f12c00bce6",
   "metadata": {},
   "source": [
    "# Transcriptomics\n",
    "## DEG analysis\n",
    "\n",
    "By: Sébastien Lemieux & Caroline Labelle\n",
    "<br>For: BIM6065-C\n",
    "\n",
    "<br>\n",
    "Date: July 10th 2024\n",
    "\n",
    "<hr style=\"border:1px solid black\"> </hr>\n"
   ]
  },
  {
   "cell_type": "markdown",
   "id": "a6a5266d-7f15-4d78-83b3-607ae18a2335",
   "metadata": {},
   "source": [
    "In a terminal, launch `R` and enter the following commands (one after the other!):\n",
    "```\n",
    "install.packages(\"IRkernel\")\n",
    "IRkernel::installspec(name=\"ir44\", displayname=\"R 4.4\") ## check for 4.4?\n",
    "```\n",
    "This will install the most recent version of R as a kernel for your jupyter notebooks. Then switch this notebook to that kernel."
   ]
  },
  {
   "cell_type": "code",
   "execution_count": null,
   "id": "8a707187-c6b6-4cfc-a1f8-b9e189aa7ac4",
   "metadata": {},
   "outputs": [],
   "source": [
    "version"
   ]
  },
  {
   "cell_type": "code",
   "execution_count": null,
   "id": "a4421657-4248-46cc-99e0-2b3646c84b2f",
   "metadata": {},
   "outputs": [],
   "source": [
    ".libPaths()"
   ]
  },
  {
   "cell_type": "code",
   "execution_count": null,
   "id": "4d2c2259-4143-45db-8012-722e7643dbe0",
   "metadata": {},
   "outputs": [],
   "source": []
  },
  {
   "cell_type": "code",
   "execution_count": null,
   "id": "7499ab22",
   "metadata": {},
   "outputs": [],
   "source": [
    "### We will be using the EdgeR library: https://www.bioconductor.org/packages/release/bioc/vignettes/edgeR/inst/doc/edgeRUsersGuide.pdf\n",
    "### First, install it\n"
   ]
  },
  {
   "cell_type": "code",
   "execution_count": null,
   "id": "2edde91d-7203-44ea-ab3a-4cad0b4dcc8c",
   "metadata": {},
   "outputs": [],
   "source": [
    "### Then, load it\n"
   ]
  },
  {
   "cell_type": "code",
   "execution_count": null,
   "id": "529bbf12",
   "metadata": {},
   "outputs": [],
   "source": [
    "### Monday you created a data file concisting of counts of read per gene\n",
    "### across 6 samples: 3 controls and 3 treatments. \n",
    "### We will use this dataset to do our DEG analysis.\n",
    "\n",
    "### Upload data\n"
   ]
  },
  {
   "cell_type": "code",
   "execution_count": null,
   "id": "2563b8d6",
   "metadata": {},
   "outputs": [],
   "source": [
    "### We need to define categorical values (called factors) that are associated to each sample type.\n",
    "### We will use \"C\" for the Controls and \"T\" for the Treatments.\n",
    "\n",
    "### Create a list of these categorical values that will eventually be assigned to your\n",
    "### samples. Be careful to keep the same order as the one in your dataset!\n",
    "\n",
    "\n",
    "### Convert the string labels into factors\n"
   ]
  },
  {
   "cell_type": "code",
   "execution_count": null,
   "id": "9f31c482",
   "metadata": {},
   "outputs": [],
   "source": [
    "### We now need to define the \"design\" matrix.  \n"
   ]
  },
  {
   "cell_type": "code",
   "execution_count": null,
   "id": "28c6c72a",
   "metadata": {
    "tags": []
   },
   "outputs": [],
   "source": [
    "### Create a DEG object i.e. make our data into an object that be passed to various edgeR function\n",
    "### Look at the ouput: what does this object contains?\n"
   ]
  },
  {
   "cell_type": "code",
   "execution_count": null,
   "id": "f5c91b3f-be68-4d36-a1e8-7dc3575a53be",
   "metadata": {
    "tags": []
   },
   "outputs": [],
   "source": [
    "### Compute the normalization factors to account for different library sizes.\n"
   ]
  },
  {
   "cell_type": "code",
   "execution_count": null,
   "id": "6f5dc800",
   "metadata": {},
   "outputs": [],
   "source": [
    "### It is time to use voom :) \n",
    "### This will allow you to transform your count data to log2-counts per million (logCPM).\n",
    "### https://www.rdocumentation.org/packages/limma/versions/3.28.14/topics/voom\n"
   ]
  },
  {
   "cell_type": "code",
   "execution_count": null,
   "id": "4b6aba38-65d0-4d12-8717-2222e4b1ebc6",
   "metadata": {},
   "outputs": [],
   "source": [
    "#### Let's fit a linear model, using weighted least squares for each gene\n"
   ]
  },
  {
   "cell_type": "code",
   "execution_count": null,
   "id": "216eca9f",
   "metadata": {},
   "outputs": [],
   "source": [
    "### Comparisons between groups (log fold-changes) are obtained as \n",
    "### contrasts of these fitted linear models\n"
   ]
  },
  {
   "cell_type": "code",
   "execution_count": null,
   "id": "96dede40-bdb3-4315-9e37-1a663048a933",
   "metadata": {},
   "outputs": [],
   "source": [
    "### Estimate contrast for each gene\n"
   ]
  },
  {
   "cell_type": "code",
   "execution_count": null,
   "id": "ebf78b0a-1d3d-422d-a438-c524b7323453",
   "metadata": {},
   "outputs": [],
   "source": [
    "### Empirical Bayes smoothing of standard errors\n"
   ]
  },
  {
   "cell_type": "code",
   "execution_count": null,
   "id": "5745f87f",
   "metadata": {},
   "outputs": [],
   "source": [
    "### Create top table\n"
   ]
  },
  {
   "cell_type": "code",
   "execution_count": null,
   "id": "5e6caa41",
   "metadata": {},
   "outputs": [],
   "source": [
    "### Export table\n"
   ]
  },
  {
   "cell_type": "markdown",
   "id": "ad56f970-b144-4d8e-8255-4b611eadc350",
   "metadata": {},
   "source": [
    "**Continue with the Python notebook for today!**"
   ]
  }
 ],
 "metadata": {
  "kernelspec": {
   "display_name": "R 4.4 2024",
   "language": "R",
   "name": "ir44"
  },
  "language_info": {
   "codemirror_mode": "r",
   "file_extension": ".r",
   "mimetype": "text/x-r-source",
   "name": "R",
   "pygments_lexer": "r",
   "version": "4.4.0"
  }
 },
 "nbformat": 4,
 "nbformat_minor": 5
}
