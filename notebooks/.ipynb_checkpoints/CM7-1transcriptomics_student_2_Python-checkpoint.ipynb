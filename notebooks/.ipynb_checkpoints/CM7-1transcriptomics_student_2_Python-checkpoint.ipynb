{
 "cells": [
  {
   "cell_type": "markdown",
   "id": "70f6ab0b-5eea-4f94-87fd-5177a679277a",
   "metadata": {},
   "source": [
    "**Load the output of limma-voom using Pandas.**"
   ]
  },
  {
   "cell_type": "code",
   "execution_count": null,
   "id": "ead869ea-ceb1-487c-9b9d-3f173bac00cd",
   "metadata": {},
   "outputs": [],
   "source": []
  },
  {
   "cell_type": "markdown",
   "id": "d9584e6e-5da7-494a-a7d6-e7f24033d11a",
   "metadata": {},
   "source": [
    "**We would like to add gene names and descriptions to our DEG dataframe.**\n",
    "\n",
    "You can use [BioMart](https://useast.ensembl.org/biomart/martview/) to prepare a file containing the correspondance between the Ensembl IDs and gene names."
   ]
  },
  {
   "cell_type": "code",
   "execution_count": null,
   "id": "4890b20d-d487-49de-b59d-bf1f93466620",
   "metadata": {},
   "outputs": [],
   "source": []
  },
  {
   "cell_type": "markdown",
   "id": "49a3efce-9577-45a4-bafe-5bb40f113b8a",
   "metadata": {},
   "source": [
    "**Merge the two dataframes (left join) using the Ensembl IDs as the index.**\n",
    "\n",
    "([DataFrame.join()](https://pandas.pydata.org/docs/reference/api/pandas.DataFrame.join.html) documentation)"
   ]
  },
  {
   "cell_type": "code",
   "execution_count": null,
   "id": "7054062f-4940-46c5-923b-4c7f97c912eb",
   "metadata": {},
   "outputs": [],
   "source": []
  },
  {
   "cell_type": "markdown",
   "id": "7950c35f-02c2-4a8b-91ca-51c306b07828",
   "metadata": {},
   "source": [
    "How many genes were not present in the BioMart file?"
   ]
  },
  {
   "cell_type": "code",
   "execution_count": null,
   "id": "454a5766-96ed-487e-9e22-e0f9a2aa4b8b",
   "metadata": {},
   "outputs": [],
   "source": []
  },
  {
   "cell_type": "markdown",
   "id": "ee68fffe-1512-4040-99e8-5c1bff9bb733",
   "metadata": {},
   "source": [
    "### 1) How many genes have a significant (< 0.05) adjusted P-value?"
   ]
  },
  {
   "cell_type": "code",
   "execution_count": null,
   "id": "539dd51b-eefa-420a-93ba-2166fce3bda8",
   "metadata": {},
   "outputs": [],
   "source": []
  },
  {
   "cell_type": "markdown",
   "id": "ad3e1937-e937-4715-b94d-0212cf5ca255",
   "metadata": {},
   "source": [
    "### 2) Show a histogram of their log-fold-change.\n",
    "\n",
    "(histplot, bins=)"
   ]
  },
  {
   "cell_type": "code",
   "execution_count": null,
   "id": "8b1020b3-41ba-4cdf-8b92-f1a7dad31e1a",
   "metadata": {},
   "outputs": [],
   "source": []
  },
  {
   "cell_type": "markdown",
   "id": "99b6ff5d-5032-4c01-bca7-5ae92833604c",
   "metadata": {},
   "source": [
    "### 3) How many genes are significant, with a fold-change greater than 2? Keep both over- and under-expressed genes in the treated samples. Show an histogram of their log-fold-change.\n",
    "\n",
    "(abs, &)"
   ]
  },
  {
   "cell_type": "code",
   "execution_count": null,
   "id": "87c74a52-a438-4f18-9305-869104c57c14",
   "metadata": {},
   "outputs": [],
   "source": []
  },
  {
   "cell_type": "markdown",
   "id": "c089d856-c5ff-411d-a6de-a535a9b9e9d8",
   "metadata": {},
   "source": [
    "### 4) Show a Volcano plot with all genes. Show the genes selected in Q.3 in a different color.\n",
    "\n",
    "(numpy.log10, hue=, linewidth=)"
   ]
  },
  {
   "cell_type": "code",
   "execution_count": null,
   "id": "dd57b088-250c-4bf0-81f6-7bd6bae8d601",
   "metadata": {},
   "outputs": [],
   "source": []
  }
 ],
 "metadata": {
  "kernelspec": {
   "display_name": "Python (bioinfo) 2024",
   "language": "python",
   "name": "bioinfo"
  },
  "language_info": {
   "codemirror_mode": {
    "name": "ipython",
    "version": 3
   },
   "file_extension": ".py",
   "mimetype": "text/x-python",
   "name": "python",
   "nbconvert_exporter": "python",
   "pygments_lexer": "ipython3",
   "version": "3.10.4"
  }
 },
 "nbformat": 4,
 "nbformat_minor": 5
}
